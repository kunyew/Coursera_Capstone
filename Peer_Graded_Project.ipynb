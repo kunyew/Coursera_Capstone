{
  "nbformat": 4,
  "nbformat_minor": 0,
  "metadata": {
    "kernelspec": {
      "name": "python3",
      "display_name": "Python 3"
    },
    "language_info": {
      "codemirror_mode": {
        "name": "ipython",
        "version": 3
      },
      "file_extension": ".py",
      "mimetype": "text/x-python",
      "name": "python",
      "nbconvert_exporter": "python",
      "pygments_lexer": "ipython3",
      "version": "3.6.9"
    },
    "colab": {
      "name": "Peer Graded Project.ipynb",
      "provenance": [],
      "collapsed_sections": [],
      "toc_visible": true,
      "include_colab_link": true
    },
    "widgets": {
      "application/vnd.jupyter.widget-state+json": {
        "d65fb2c07d914ab4b4982f0cc732becf": {
          "model_module": "@jupyter-widgets/controls",
          "model_name": "HBoxModel",
          "state": {
            "_view_name": "HBoxView",
            "_dom_classes": [],
            "_model_name": "HBoxModel",
            "_view_module": "@jupyter-widgets/controls",
            "_model_module_version": "1.5.0",
            "_view_count": null,
            "_view_module_version": "1.5.0",
            "box_style": "",
            "layout": "IPY_MODEL_7bfe580435024234bdcb38fd18091215",
            "_model_module": "@jupyter-widgets/controls",
            "children": [
              "IPY_MODEL_9a6a95bc53754d809ed821c3a010179d",
              "IPY_MODEL_301e4b9a9e4b461b85efbda8ccfc2af4"
            ]
          }
        },
        "7bfe580435024234bdcb38fd18091215": {
          "model_module": "@jupyter-widgets/base",
          "model_name": "LayoutModel",
          "state": {
            "_view_name": "LayoutView",
            "grid_template_rows": null,
            "right": null,
            "justify_content": null,
            "_view_module": "@jupyter-widgets/base",
            "overflow": null,
            "_model_module_version": "1.2.0",
            "_view_count": null,
            "flex_flow": null,
            "width": null,
            "min_width": null,
            "border": null,
            "align_items": null,
            "bottom": null,
            "_model_module": "@jupyter-widgets/base",
            "top": null,
            "grid_column": null,
            "overflow_y": null,
            "overflow_x": null,
            "grid_auto_flow": null,
            "grid_area": null,
            "grid_template_columns": null,
            "flex": null,
            "_model_name": "LayoutModel",
            "justify_items": null,
            "grid_row": null,
            "max_height": null,
            "align_content": null,
            "visibility": null,
            "align_self": null,
            "height": null,
            "min_height": null,
            "padding": null,
            "grid_auto_rows": null,
            "grid_gap": null,
            "max_width": null,
            "order": null,
            "_view_module_version": "1.2.0",
            "grid_template_areas": null,
            "object_position": null,
            "object_fit": null,
            "grid_auto_columns": null,
            "margin": null,
            "display": null,
            "left": null
          }
        },
        "9a6a95bc53754d809ed821c3a010179d": {
          "model_module": "@jupyter-widgets/controls",
          "model_name": "IntProgressModel",
          "state": {
            "_view_name": "ProgressView",
            "style": "IPY_MODEL_c088e5fa676d4f38a88326713cb44e69",
            "_dom_classes": [],
            "description": "",
            "_model_name": "IntProgressModel",
            "bar_style": "success",
            "max": 46827520,
            "_view_module": "@jupyter-widgets/controls",
            "_model_module_version": "1.5.0",
            "value": 46827520,
            "_view_count": null,
            "_view_module_version": "1.5.0",
            "orientation": "horizontal",
            "min": 0,
            "description_tooltip": null,
            "_model_module": "@jupyter-widgets/controls",
            "layout": "IPY_MODEL_2bbe5500ad9e46edad2b9318379b8c94"
          }
        },
        "301e4b9a9e4b461b85efbda8ccfc2af4": {
          "model_module": "@jupyter-widgets/controls",
          "model_name": "HTMLModel",
          "state": {
            "_view_name": "HTMLView",
            "style": "IPY_MODEL_52128c09db4140cb8b6bc5bd23449f15",
            "_dom_classes": [],
            "description": "",
            "_model_name": "HTMLModel",
            "placeholder": "​",
            "_view_module": "@jupyter-widgets/controls",
            "_model_module_version": "1.5.0",
            "value": "100% 44.7M/44.7M [00:00&lt;00:00, 176MB/s]",
            "_view_count": null,
            "_view_module_version": "1.5.0",
            "description_tooltip": null,
            "_model_module": "@jupyter-widgets/controls",
            "layout": "IPY_MODEL_b01ab3a62ac749fe88cf9cacd4e78336"
          }
        },
        "c088e5fa676d4f38a88326713cb44e69": {
          "model_module": "@jupyter-widgets/controls",
          "model_name": "ProgressStyleModel",
          "state": {
            "_view_name": "StyleView",
            "_model_name": "ProgressStyleModel",
            "description_width": "",
            "_view_module": "@jupyter-widgets/base",
            "_model_module_version": "1.5.0",
            "_view_count": null,
            "_view_module_version": "1.2.0",
            "bar_color": null,
            "_model_module": "@jupyter-widgets/controls"
          }
        },
        "2bbe5500ad9e46edad2b9318379b8c94": {
          "model_module": "@jupyter-widgets/base",
          "model_name": "LayoutModel",
          "state": {
            "_view_name": "LayoutView",
            "grid_template_rows": null,
            "right": null,
            "justify_content": null,
            "_view_module": "@jupyter-widgets/base",
            "overflow": null,
            "_model_module_version": "1.2.0",
            "_view_count": null,
            "flex_flow": null,
            "width": null,
            "min_width": null,
            "border": null,
            "align_items": null,
            "bottom": null,
            "_model_module": "@jupyter-widgets/base",
            "top": null,
            "grid_column": null,
            "overflow_y": null,
            "overflow_x": null,
            "grid_auto_flow": null,
            "grid_area": null,
            "grid_template_columns": null,
            "flex": null,
            "_model_name": "LayoutModel",
            "justify_items": null,
            "grid_row": null,
            "max_height": null,
            "align_content": null,
            "visibility": null,
            "align_self": null,
            "height": null,
            "min_height": null,
            "padding": null,
            "grid_auto_rows": null,
            "grid_gap": null,
            "max_width": null,
            "order": null,
            "_view_module_version": "1.2.0",
            "grid_template_areas": null,
            "object_position": null,
            "object_fit": null,
            "grid_auto_columns": null,
            "margin": null,
            "display": null,
            "left": null
          }
        },
        "52128c09db4140cb8b6bc5bd23449f15": {
          "model_module": "@jupyter-widgets/controls",
          "model_name": "DescriptionStyleModel",
          "state": {
            "_view_name": "StyleView",
            "_model_name": "DescriptionStyleModel",
            "description_width": "",
            "_view_module": "@jupyter-widgets/base",
            "_model_module_version": "1.5.0",
            "_view_count": null,
            "_view_module_version": "1.2.0",
            "_model_module": "@jupyter-widgets/controls"
          }
        },
        "b01ab3a62ac749fe88cf9cacd4e78336": {
          "model_module": "@jupyter-widgets/base",
          "model_name": "LayoutModel",
          "state": {
            "_view_name": "LayoutView",
            "grid_template_rows": null,
            "right": null,
            "justify_content": null,
            "_view_module": "@jupyter-widgets/base",
            "overflow": null,
            "_model_module_version": "1.2.0",
            "_view_count": null,
            "flex_flow": null,
            "width": null,
            "min_width": null,
            "border": null,
            "align_items": null,
            "bottom": null,
            "_model_module": "@jupyter-widgets/base",
            "top": null,
            "grid_column": null,
            "overflow_y": null,
            "overflow_x": null,
            "grid_auto_flow": null,
            "grid_area": null,
            "grid_template_columns": null,
            "flex": null,
            "_model_name": "LayoutModel",
            "justify_items": null,
            "grid_row": null,
            "max_height": null,
            "align_content": null,
            "visibility": null,
            "align_self": null,
            "height": null,
            "min_height": null,
            "padding": null,
            "grid_auto_rows": null,
            "grid_gap": null,
            "max_width": null,
            "order": null,
            "_view_module_version": "1.2.0",
            "grid_template_areas": null,
            "object_position": null,
            "object_fit": null,
            "grid_auto_columns": null,
            "margin": null,
            "display": null,
            "left": null
          }
        }
      }
    }
  },
  "cells": [
    {
      "cell_type": "markdown",
      "metadata": {
        "id": "view-in-github",
        "colab_type": "text"
      },
      "source": [
        "<a href=\"https://colab.research.google.com/github/kunyew/Coursera_Capstone/blob/master/Peer_Graded_Project.ipynb\" target=\"_parent\"><img src=\"https://colab.research.google.com/assets/colab-badge.svg\" alt=\"Open In Colab\"/></a>"
      ]
    },
    {
      "cell_type": "markdown",
      "metadata": {
        "id": "Y1CyQnx-tZzq",
        "colab_type": "text"
      },
      "source": [
        "<a href=\"http://cocl.us/pytorch_link_top\">\n",
        "    <img src=\"https://s3-api.us-geo.objectstorage.softlayer.net/cf-courses-data/CognitiveClass/DL0110EN/notebook_images%20/Pytochtop.png\" width=\"750\" alt=\"IBM Product \" />\n",
        "</a> "
      ]
    },
    {
      "cell_type": "markdown",
      "metadata": {
        "id": "HqKUJ_pjtZzu",
        "colab_type": "text"
      },
      "source": [
        "<img src=\"https://s3-api.us-geo.objectstorage.softlayer.net/cf-courses-data/CognitiveClass/DL0110EN/notebook_images%20/cc-logo-square.png\" width=\"200\" alt=\"cognitiveclass.ai logo\" />"
      ]
    },
    {
      "cell_type": "markdown",
      "metadata": {
        "id": "RDeX_RqztZzx",
        "colab_type": "text"
      },
      "source": [
        "<h1><h1>Pre-trained-Models with PyTorch </h1>"
      ]
    },
    {
      "cell_type": "markdown",
      "metadata": {
        "id": "80uTi4oJtZz0",
        "colab_type": "text"
      },
      "source": [
        "In this lab, you will use pre-trained models to classify between the negative and positive samples; you will be provided with the dataset object. The particular pre-trained model will be resnet18; you will have three questions: \n",
        "<ul>\n",
        "<li>change the output layer</li>\n",
        "<li> train the model</li> \n",
        "<li>  identify  several  misclassified samples</li> \n",
        " </ul>\n",
        "You will take several screenshots of your work and share your notebook. "
      ]
    },
    {
      "cell_type": "markdown",
      "metadata": {
        "id": "T426E7FDtZz3",
        "colab_type": "text"
      },
      "source": [
        "<h2>Table of Contents</h2>"
      ]
    },
    {
      "cell_type": "markdown",
      "metadata": {
        "id": "ZpdKnWY7tZz6",
        "colab_type": "text"
      },
      "source": [
        "<div class=\"alert alert-block alert-info\" style=\"margin-top: 20px\">\n",
        "\n",
        "\n",
        "<ul>\n",
        "    <li><a href=\"#download_data\"> Download Data</a></li>\n",
        "    <li><a href=\"#auxiliary\"> Imports and Auxiliary Functions </a></li>\n",
        "    <li><a href=\"#data_class\"> Dataset Class</a></li>\n",
        "    <li><a href=\"#Question_1\">Question 1</a></li>\n",
        "    <li><a href=\"#Question_2\">Question 2</a></li>\n",
        "    <li><a href=\"#Question_3\">Question 3</a></li>\n",
        "</ul>\n",
        "<p>Estimated Time Needed: <strong>120 min</strong></p>\n",
        " </div>\n",
        "<hr>"
      ]
    },
    {
      "cell_type": "markdown",
      "metadata": {
        "id": "BbQG610-tZz8",
        "colab_type": "text"
      },
      "source": [
        "<h2 id=\"download_data\">Download Data</h2>"
      ]
    },
    {
      "cell_type": "markdown",
      "metadata": {
        "id": "lljujmKvtZz_",
        "colab_type": "text"
      },
      "source": [
        "Download the dataset and unzip the files in your data directory, unlike the other labs, all the data will be deleted after you close  the lab, this may take some time:"
      ]
    },
    {
      "cell_type": "code",
      "metadata": {
        "id": "Bj_ipPqBtZ0F",
        "colab_type": "code",
        "colab": {
          "base_uri": "https://localhost:8080/",
          "height": 222
        },
        "outputId": "584f684f-1c61-4bc4-bff3-33418f6d786f"
      },
      "source": [
        "!wget https://s3-api.us-geo.objectstorage.softlayer.net/cf-courses-data/CognitiveClass/DL0321EN/data/images/Positive_tensors.zip "
      ],
      "execution_count": 1,
      "outputs": [
        {
          "output_type": "stream",
          "text": [
            "--2020-03-18 23:35:33--  https://s3-api.us-geo.objectstorage.softlayer.net/cf-courses-data/CognitiveClass/DL0321EN/data/images/Positive_tensors.zip\n",
            "Resolving s3-api.us-geo.objectstorage.softlayer.net (s3-api.us-geo.objectstorage.softlayer.net)... 67.228.254.196\n",
            "Connecting to s3-api.us-geo.objectstorage.softlayer.net (s3-api.us-geo.objectstorage.softlayer.net)|67.228.254.196|:443... connected.\n",
            "HTTP request sent, awaiting response... 200 OK\n",
            "Length: 2598656062 (2.4G) [application/zip]\n",
            "Saving to: ‘Positive_tensors.zip’\n",
            "\n",
            "Positive_tensors.zi 100%[===================>]   2.42G  25.8MB/s    in 96s     \n",
            "\n",
            "2020-03-18 23:37:09 (25.9 MB/s) - ‘Positive_tensors.zip’ saved [2598656062/2598656062]\n",
            "\n"
          ],
          "name": "stdout"
        }
      ]
    },
    {
      "cell_type": "code",
      "metadata": {
        "id": "y-sci3WntZ0P",
        "colab_type": "code",
        "colab": {
          "base_uri": "https://localhost:8080/",
          "height": 50
        },
        "outputId": "8dd5b150-8cc8-47d6-8d7b-5026be6f2500"
      },
      "source": [
        "!unzip -q Positive_tensors.zip "
      ],
      "execution_count": 3,
      "outputs": [
        {
          "output_type": "stream",
          "text": [
            "replace Positive_tensors/5114.pt? [y]es, [n]o, [A]ll, [N]one, [r]ename: n\n",
            "replace Positive_tensors/17137.pt? [y]es, [n]o, [A]ll, [N]one, [r]ename: N\n"
          ],
          "name": "stdout"
        }
      ]
    },
    {
      "cell_type": "code",
      "metadata": {
        "id": "bRyZAZ6stZ0Z",
        "colab_type": "code",
        "colab": {
          "base_uri": "https://localhost:8080/",
          "height": 222
        },
        "outputId": "57ae553d-0e48-41f0-c3e0-d41a493d8a4a"
      },
      "source": [
        "! wget https://s3-api.us-geo.objectstorage.softlayer.net/cf-courses-data/CognitiveClass/DL0321EN/data/images/Negative_tensors.zip\n",
        "!unzip -q Negative_tensors.zip"
      ],
      "execution_count": 4,
      "outputs": [
        {
          "output_type": "stream",
          "text": [
            "--2020-03-18 23:42:52--  https://s3-api.us-geo.objectstorage.softlayer.net/cf-courses-data/CognitiveClass/DL0321EN/data/images/Negative_tensors.zip\n",
            "Resolving s3-api.us-geo.objectstorage.softlayer.net (s3-api.us-geo.objectstorage.softlayer.net)... 67.228.254.196\n",
            "Connecting to s3-api.us-geo.objectstorage.softlayer.net (s3-api.us-geo.objectstorage.softlayer.net)|67.228.254.196|:443... connected.\n",
            "HTTP request sent, awaiting response... 200 OK\n",
            "Length: 2111408108 (2.0G) [application/zip]\n",
            "Saving to: ‘Negative_tensors.zip’\n",
            "\n",
            "Negative_tensors.zi 100%[===================>]   1.97G  22.9MB/s    in 80s     \n",
            "\n",
            "2020-03-18 23:44:12 (25.1 MB/s) - ‘Negative_tensors.zip’ saved [2111408108/2111408108]\n",
            "\n"
          ],
          "name": "stdout"
        }
      ]
    },
    {
      "cell_type": "markdown",
      "metadata": {
        "id": "hXZqekrQtZ0j",
        "colab_type": "text"
      },
      "source": [
        "We will install torchvision:"
      ]
    },
    {
      "cell_type": "code",
      "metadata": {
        "id": "thuLYIIOtZ0l",
        "colab_type": "code",
        "colab": {
          "base_uri": "https://localhost:8080/",
          "height": 101
        },
        "outputId": "e6c91ef2-1a1a-4a41-db3f-319498bd844f"
      },
      "source": [
        "!pip install torchvision"
      ],
      "execution_count": 5,
      "outputs": [
        {
          "output_type": "stream",
          "text": [
            "Requirement already satisfied: torchvision in /usr/local/lib/python3.6/dist-packages (0.5.0)\n",
            "Requirement already satisfied: torch==1.4.0 in /usr/local/lib/python3.6/dist-packages (from torchvision) (1.4.0)\n",
            "Requirement already satisfied: pillow>=4.1.1 in /usr/local/lib/python3.6/dist-packages (from torchvision) (7.0.0)\n",
            "Requirement already satisfied: numpy in /usr/local/lib/python3.6/dist-packages (from torchvision) (1.18.1)\n",
            "Requirement already satisfied: six in /usr/local/lib/python3.6/dist-packages (from torchvision) (1.12.0)\n"
          ],
          "name": "stdout"
        }
      ]
    },
    {
      "cell_type": "markdown",
      "metadata": {
        "id": "dnO_WK3ftZ0s",
        "colab_type": "text"
      },
      "source": [
        "<h2 id=\"auxiliary\">Imports and Auxiliary Functions</h2>"
      ]
    },
    {
      "cell_type": "markdown",
      "metadata": {
        "id": "20AzeR7ytZ0t",
        "colab_type": "text"
      },
      "source": [
        "The following are the libraries we are going to use for this lab. The <code>torch.manual_seed()</code> is for forcing the random function to give the same number every time we try to recompile it."
      ]
    },
    {
      "cell_type": "code",
      "metadata": {
        "id": "8lpzCtTYtZ0u",
        "colab_type": "code",
        "colab": {
          "base_uri": "https://localhost:8080/",
          "height": 34
        },
        "outputId": "0aef748d-6a20-4d8f-f0f3-1aca069b40f1"
      },
      "source": [
        "# These are the libraries will be used for this lab.\n",
        "import torchvision.models as models\n",
        "from PIL import Image\n",
        "import pandas\n",
        "from torchvision import transforms\n",
        "import torch.nn as nn\n",
        "import time\n",
        "import torch \n",
        "import matplotlib.pylab as plt\n",
        "import numpy as np\n",
        "from torch.utils.data import Dataset, DataLoader\n",
        "import h5py\n",
        "import os\n",
        "import glob\n",
        "torch.manual_seed(0)"
      ],
      "execution_count": 6,
      "outputs": [
        {
          "output_type": "execute_result",
          "data": {
            "text/plain": [
              "<torch._C.Generator at 0x7f648c75b4b0>"
            ]
          },
          "metadata": {
            "tags": []
          },
          "execution_count": 6
        }
      ]
    },
    {
      "cell_type": "code",
      "metadata": {
        "id": "HKjRr6FNtZ0z",
        "colab_type": "code",
        "colab": {}
      },
      "source": [
        "from matplotlib.pyplot import imshow\n",
        "import matplotlib.pylab as plt\n",
        "from PIL import Image\n",
        "import pandas as pd\n",
        "import os"
      ],
      "execution_count": 0,
      "outputs": []
    },
    {
      "cell_type": "markdown",
      "metadata": {
        "id": "0vVkgEJdtZ05",
        "colab_type": "text"
      },
      "source": [
        "<!--Empty Space for separating topics-->"
      ]
    },
    {
      "cell_type": "markdown",
      "metadata": {
        "id": "MpRzI3GHtZ07",
        "colab_type": "text"
      },
      "source": [
        "<h2 id=\"data_class\">Dataset Class</h2>"
      ]
    },
    {
      "cell_type": "markdown",
      "metadata": {
        "id": "H16qOaN-tZ09",
        "colab_type": "text"
      },
      "source": [
        " This dataset class is essentially the same dataset you build in the previous section, but to speed things up, we are going to use tensors instead of jpeg images. Therefor for each iteration, you will skip the reshape step, conversion step to tensors and normalization step."
      ]
    },
    {
      "cell_type": "code",
      "metadata": {
        "id": "KwVDVlVQtZ0_",
        "colab_type": "code",
        "colab": {
          "base_uri": "https://localhost:8080/",
          "height": 34
        },
        "outputId": "a9a2e880-dd2d-403a-ac9c-91ac0ad0be42"
      },
      "source": [
        "# Create your own dataset object\n",
        "\n",
        "class Dataset(Dataset):\n",
        "\n",
        "    # Constructor\n",
        "    def __init__(self,transform=None,train=True):\n",
        "        #directory=\"/home/dsxuser/work\"\n",
        "        directory=\"/content\"\n",
        "        positive=\"Positive_tensors\"\n",
        "        negative='Negative_tensors'\n",
        "\n",
        "        positive_file_path=os.path.join(directory,positive)\n",
        "        negative_file_path=os.path.join(directory,negative)\n",
        "        positive_files=[os.path.join(positive_file_path,file) for file in os.listdir(positive_file_path) if file.endswith(\".pt\")]\n",
        "        negative_files=[os.path.join(negative_file_path,file) for file in os.listdir(negative_file_path) if file.endswith(\".pt\")]\n",
        "        number_of_samples=len(positive_files)+len(negative_files)\n",
        "        self.all_files=[None]*number_of_samples\n",
        "        self.all_files[::2]=positive_files\n",
        "        self.all_files[1::2]=negative_files \n",
        "        # The transform is goint to be used on image\n",
        "        self.transform = transform\n",
        "        #torch.LongTensor\n",
        "        self.Y=torch.zeros([number_of_samples]).type(torch.LongTensor)\n",
        "        self.Y[::2]=1\n",
        "        self.Y[1::2]=0\n",
        "        \n",
        "        if train:\n",
        "            self.all_files=self.all_files[0:30000]\n",
        "            self.Y=self.Y[0:30000]\n",
        "            self.len=len(self.all_files)\n",
        "        else:\n",
        "            self.all_files=self.all_files[30000:]\n",
        "            self.Y=self.Y[30000:]\n",
        "            self.len=len(self.all_files)     \n",
        "       \n",
        "    # Get the length\n",
        "    def __len__(self):\n",
        "        return self.len\n",
        "    \n",
        "    # Getter\n",
        "    def __getitem__(self, idx):\n",
        "               \n",
        "        image=torch.load(self.all_files[idx])\n",
        "        y=self.Y[idx]\n",
        "                  \n",
        "        # If there is any transform method, apply it onto the image\n",
        "        if self.transform:\n",
        "            image = self.transform(image)\n",
        "\n",
        "        return image, y\n",
        "    \n",
        "print(\"done\")"
      ],
      "execution_count": 8,
      "outputs": [
        {
          "output_type": "stream",
          "text": [
            "done\n"
          ],
          "name": "stdout"
        }
      ]
    },
    {
      "cell_type": "markdown",
      "metadata": {
        "id": "d2NQWHYx6a_E",
        "colab_type": "text"
      },
      "source": [
        "# New Section"
      ]
    },
    {
      "cell_type": "markdown",
      "metadata": {
        "id": "iJw6KLuKtZ1I",
        "colab_type": "text"
      },
      "source": [
        "We create two dataset objects, one for the training data and one for the validation data."
      ]
    },
    {
      "cell_type": "code",
      "metadata": {
        "id": "Nja4h1kUtZ1J",
        "colab_type": "code",
        "colab": {
          "base_uri": "https://localhost:8080/",
          "height": 34
        },
        "outputId": "ed4e99ba-8caa-4d48-f978-7ab0cad3211c"
      },
      "source": [
        "train_dataset = Dataset(train=True)\n",
        "validation_dataset = Dataset(train=False)\n",
        "print(\"done\")"
      ],
      "execution_count": 9,
      "outputs": [
        {
          "output_type": "stream",
          "text": [
            "done\n"
          ],
          "name": "stdout"
        }
      ]
    },
    {
      "cell_type": "markdown",
      "metadata": {
        "id": "L9VUSg1ktZ1N",
        "colab_type": "text"
      },
      "source": [
        "<h2 id=\"Question_1\">Question 1</h2>"
      ]
    },
    {
      "cell_type": "markdown",
      "metadata": {
        "id": "7V7vD0NHtZ1P",
        "colab_type": "text"
      },
      "source": [
        "<b>Prepare a pre-trained resnet18 model :</b>"
      ]
    },
    {
      "cell_type": "markdown",
      "metadata": {
        "id": "0q1eC5zttZ1R",
        "colab_type": "text"
      },
      "source": [
        "<b>Step 1</b>: Load the pre-trained model <code>resnet18</code> Set the parameter <code>pretrained</code> to true:"
      ]
    },
    {
      "cell_type": "code",
      "metadata": {
        "id": "9AKwyelStZ1T",
        "colab_type": "code",
        "colab": {
          "base_uri": "https://localhost:8080/",
          "height": 82,
          "referenced_widgets": [
            "d65fb2c07d914ab4b4982f0cc732becf",
            "7bfe580435024234bdcb38fd18091215",
            "9a6a95bc53754d809ed821c3a010179d",
            "301e4b9a9e4b461b85efbda8ccfc2af4",
            "c088e5fa676d4f38a88326713cb44e69",
            "2bbe5500ad9e46edad2b9318379b8c94",
            "52128c09db4140cb8b6bc5bd23449f15",
            "b01ab3a62ac749fe88cf9cacd4e78336"
          ]
        },
        "outputId": "48bc229a-41a7-400b-83f3-3b12057f8fe8"
      },
      "source": [
        "#step 1: load the resnet18 model\n",
        "model = models.resnet18(pretrained=True)"
      ],
      "execution_count": 10,
      "outputs": [
        {
          "output_type": "stream",
          "text": [
            "Downloading: \"https://download.pytorch.org/models/resnet18-5c106cde.pth\" to /root/.cache/torch/checkpoints/resnet18-5c106cde.pth\n"
          ],
          "name": "stderr"
        },
        {
          "output_type": "display_data",
          "data": {
            "application/vnd.jupyter.widget-view+json": {
              "model_id": "d65fb2c07d914ab4b4982f0cc732becf",
              "version_minor": 0,
              "version_major": 2
            },
            "text/plain": [
              "HBox(children=(IntProgress(value=0, max=46827520), HTML(value='')))"
            ]
          },
          "metadata": {
            "tags": []
          }
        },
        {
          "output_type": "stream",
          "text": [
            "\n"
          ],
          "name": "stdout"
        }
      ]
    },
    {
      "cell_type": "markdown",
      "metadata": {
        "id": "QAg5aM52tZ1b",
        "colab_type": "text"
      },
      "source": [
        "<b>Step 2</b>: Set the attribute <code>requires_grad</code> to <code>False</code>. As a result, the parameters will not be affected by training."
      ]
    },
    {
      "cell_type": "code",
      "metadata": {
        "id": "Nec0jxvFtZ1e",
        "colab_type": "code",
        "colab": {}
      },
      "source": [
        "# Step 2: Set the parameter cannot be trained for the pre-trained model\n",
        "for param in model.parameters():\n",
        "    param.requires_grad =False"
      ],
      "execution_count": 0,
      "outputs": []
    },
    {
      "cell_type": "markdown",
      "metadata": {
        "id": "QsbZSJWEtZ1j",
        "colab_type": "text"
      },
      "source": [
        "<code>resnet18</code> is used to classify 1000 different objects; as a result, the last layer has 1000 outputs.  The 512 inputs come from the fact that the previously hidden layer has 512 outputs. "
      ]
    },
    {
      "cell_type": "markdown",
      "metadata": {
        "id": "0SbE1apltZ1l",
        "colab_type": "text"
      },
      "source": [
        "<b>Step 3</b>: Replace the output layer <code>model.fc</code> of the neural network with a <code>nn.Linear</code> object, to classify 2 different classes. For the parameters <code>in_features </code> remember the last hidden layer has 512 neurons."
      ]
    },
    {
      "cell_type": "code",
      "metadata": {
        "id": "7jzuyhqxtZ1n",
        "colab_type": "code",
        "colab": {}
      },
      "source": [
        "model.fc = nn.Linear(512,2)"
      ],
      "execution_count": 0,
      "outputs": []
    },
    {
      "cell_type": "markdown",
      "metadata": {
        "id": "NSskUb7atZ1r",
        "colab_type": "text"
      },
      "source": [
        "Print out the model in order to show whether you get the correct answer.<br> <b>(Your peer reviewer is going to mark based on what you print here.)</b>"
      ]
    },
    {
      "cell_type": "code",
      "metadata": {
        "id": "JgygKenOtZ1s",
        "colab_type": "code",
        "colab": {
          "base_uri": "https://localhost:8080/",
          "height": 1000
        },
        "outputId": "cec9d567-4bc4-4c9f-c903-53095c7f35ce"
      },
      "source": [
        "print(model)"
      ],
      "execution_count": 13,
      "outputs": [
        {
          "output_type": "stream",
          "text": [
            "ResNet(\n",
            "  (conv1): Conv2d(3, 64, kernel_size=(7, 7), stride=(2, 2), padding=(3, 3), bias=False)\n",
            "  (bn1): BatchNorm2d(64, eps=1e-05, momentum=0.1, affine=True, track_running_stats=True)\n",
            "  (relu): ReLU(inplace=True)\n",
            "  (maxpool): MaxPool2d(kernel_size=3, stride=2, padding=1, dilation=1, ceil_mode=False)\n",
            "  (layer1): Sequential(\n",
            "    (0): BasicBlock(\n",
            "      (conv1): Conv2d(64, 64, kernel_size=(3, 3), stride=(1, 1), padding=(1, 1), bias=False)\n",
            "      (bn1): BatchNorm2d(64, eps=1e-05, momentum=0.1, affine=True, track_running_stats=True)\n",
            "      (relu): ReLU(inplace=True)\n",
            "      (conv2): Conv2d(64, 64, kernel_size=(3, 3), stride=(1, 1), padding=(1, 1), bias=False)\n",
            "      (bn2): BatchNorm2d(64, eps=1e-05, momentum=0.1, affine=True, track_running_stats=True)\n",
            "    )\n",
            "    (1): BasicBlock(\n",
            "      (conv1): Conv2d(64, 64, kernel_size=(3, 3), stride=(1, 1), padding=(1, 1), bias=False)\n",
            "      (bn1): BatchNorm2d(64, eps=1e-05, momentum=0.1, affine=True, track_running_stats=True)\n",
            "      (relu): ReLU(inplace=True)\n",
            "      (conv2): Conv2d(64, 64, kernel_size=(3, 3), stride=(1, 1), padding=(1, 1), bias=False)\n",
            "      (bn2): BatchNorm2d(64, eps=1e-05, momentum=0.1, affine=True, track_running_stats=True)\n",
            "    )\n",
            "  )\n",
            "  (layer2): Sequential(\n",
            "    (0): BasicBlock(\n",
            "      (conv1): Conv2d(64, 128, kernel_size=(3, 3), stride=(2, 2), padding=(1, 1), bias=False)\n",
            "      (bn1): BatchNorm2d(128, eps=1e-05, momentum=0.1, affine=True, track_running_stats=True)\n",
            "      (relu): ReLU(inplace=True)\n",
            "      (conv2): Conv2d(128, 128, kernel_size=(3, 3), stride=(1, 1), padding=(1, 1), bias=False)\n",
            "      (bn2): BatchNorm2d(128, eps=1e-05, momentum=0.1, affine=True, track_running_stats=True)\n",
            "      (downsample): Sequential(\n",
            "        (0): Conv2d(64, 128, kernel_size=(1, 1), stride=(2, 2), bias=False)\n",
            "        (1): BatchNorm2d(128, eps=1e-05, momentum=0.1, affine=True, track_running_stats=True)\n",
            "      )\n",
            "    )\n",
            "    (1): BasicBlock(\n",
            "      (conv1): Conv2d(128, 128, kernel_size=(3, 3), stride=(1, 1), padding=(1, 1), bias=False)\n",
            "      (bn1): BatchNorm2d(128, eps=1e-05, momentum=0.1, affine=True, track_running_stats=True)\n",
            "      (relu): ReLU(inplace=True)\n",
            "      (conv2): Conv2d(128, 128, kernel_size=(3, 3), stride=(1, 1), padding=(1, 1), bias=False)\n",
            "      (bn2): BatchNorm2d(128, eps=1e-05, momentum=0.1, affine=True, track_running_stats=True)\n",
            "    )\n",
            "  )\n",
            "  (layer3): Sequential(\n",
            "    (0): BasicBlock(\n",
            "      (conv1): Conv2d(128, 256, kernel_size=(3, 3), stride=(2, 2), padding=(1, 1), bias=False)\n",
            "      (bn1): BatchNorm2d(256, eps=1e-05, momentum=0.1, affine=True, track_running_stats=True)\n",
            "      (relu): ReLU(inplace=True)\n",
            "      (conv2): Conv2d(256, 256, kernel_size=(3, 3), stride=(1, 1), padding=(1, 1), bias=False)\n",
            "      (bn2): BatchNorm2d(256, eps=1e-05, momentum=0.1, affine=True, track_running_stats=True)\n",
            "      (downsample): Sequential(\n",
            "        (0): Conv2d(128, 256, kernel_size=(1, 1), stride=(2, 2), bias=False)\n",
            "        (1): BatchNorm2d(256, eps=1e-05, momentum=0.1, affine=True, track_running_stats=True)\n",
            "      )\n",
            "    )\n",
            "    (1): BasicBlock(\n",
            "      (conv1): Conv2d(256, 256, kernel_size=(3, 3), stride=(1, 1), padding=(1, 1), bias=False)\n",
            "      (bn1): BatchNorm2d(256, eps=1e-05, momentum=0.1, affine=True, track_running_stats=True)\n",
            "      (relu): ReLU(inplace=True)\n",
            "      (conv2): Conv2d(256, 256, kernel_size=(3, 3), stride=(1, 1), padding=(1, 1), bias=False)\n",
            "      (bn2): BatchNorm2d(256, eps=1e-05, momentum=0.1, affine=True, track_running_stats=True)\n",
            "    )\n",
            "  )\n",
            "  (layer4): Sequential(\n",
            "    (0): BasicBlock(\n",
            "      (conv1): Conv2d(256, 512, kernel_size=(3, 3), stride=(2, 2), padding=(1, 1), bias=False)\n",
            "      (bn1): BatchNorm2d(512, eps=1e-05, momentum=0.1, affine=True, track_running_stats=True)\n",
            "      (relu): ReLU(inplace=True)\n",
            "      (conv2): Conv2d(512, 512, kernel_size=(3, 3), stride=(1, 1), padding=(1, 1), bias=False)\n",
            "      (bn2): BatchNorm2d(512, eps=1e-05, momentum=0.1, affine=True, track_running_stats=True)\n",
            "      (downsample): Sequential(\n",
            "        (0): Conv2d(256, 512, kernel_size=(1, 1), stride=(2, 2), bias=False)\n",
            "        (1): BatchNorm2d(512, eps=1e-05, momentum=0.1, affine=True, track_running_stats=True)\n",
            "      )\n",
            "    )\n",
            "    (1): BasicBlock(\n",
            "      (conv1): Conv2d(512, 512, kernel_size=(3, 3), stride=(1, 1), padding=(1, 1), bias=False)\n",
            "      (bn1): BatchNorm2d(512, eps=1e-05, momentum=0.1, affine=True, track_running_stats=True)\n",
            "      (relu): ReLU(inplace=True)\n",
            "      (conv2): Conv2d(512, 512, kernel_size=(3, 3), stride=(1, 1), padding=(1, 1), bias=False)\n",
            "      (bn2): BatchNorm2d(512, eps=1e-05, momentum=0.1, affine=True, track_running_stats=True)\n",
            "    )\n",
            "  )\n",
            "  (avgpool): AdaptiveAvgPool2d(output_size=(1, 1))\n",
            "  (fc): Linear(in_features=512, out_features=2, bias=True)\n",
            ")\n"
          ],
          "name": "stdout"
        }
      ]
    },
    {
      "cell_type": "markdown",
      "metadata": {
        "id": "0sdRTPi0tZ1w",
        "colab_type": "text"
      },
      "source": [
        "<h2 id=\"Question_2\">Question 2: Train the Model</h2>"
      ]
    },
    {
      "cell_type": "markdown",
      "metadata": {
        "id": "B9foPBxEtZ1y",
        "colab_type": "text"
      },
      "source": [
        "In this question you will train your, model:"
      ]
    },
    {
      "cell_type": "markdown",
      "metadata": {
        "id": "4AC55HUftZ10",
        "colab_type": "text"
      },
      "source": [
        "<b>Step 1</b>: Create a cross entropy criterion function "
      ]
    },
    {
      "cell_type": "code",
      "metadata": {
        "id": "BlPjDQoVtZ13",
        "colab_type": "code",
        "colab": {}
      },
      "source": [
        "# Step 1: Create the loss function\n",
        "loss_function = nn.CrossEntropyLoss()"
      ],
      "execution_count": 0,
      "outputs": []
    },
    {
      "cell_type": "markdown",
      "metadata": {
        "id": "cq5fxCD5tZ18",
        "colab_type": "text"
      },
      "source": [
        "<b>Step 2</b>: Create a training loader and validation loader object, the batch size should have 100 samples each."
      ]
    },
    {
      "cell_type": "code",
      "metadata": {
        "id": "gIVhOU2etZ19",
        "colab_type": "code",
        "colab": {}
      },
      "source": [
        "train_loader= torch.utils.data.DataLoader(dataset = train_dataset, batch_size=100)\n",
        "validation_loader = torch.utils.data.DataLoader( dataset = validation_dataset, batch_size =100)"
      ],
      "execution_count": 0,
      "outputs": []
    },
    {
      "cell_type": "markdown",
      "metadata": {
        "id": "SlimHxO9tZ2B",
        "colab_type": "text"
      },
      "source": [
        "<b>Step 3</b>: Use the following optimizer to minimize the loss "
      ]
    },
    {
      "cell_type": "code",
      "metadata": {
        "id": "EAlVUm7jtZ2B",
        "colab_type": "code",
        "colab": {}
      },
      "source": [
        "optimizer = torch.optim.Adam([parameters  for parameters in model.parameters() if parameters.requires_grad],lr=0.001)"
      ],
      "execution_count": 0,
      "outputs": []
    },
    {
      "cell_type": "markdown",
      "metadata": {
        "id": "4LABuC_mtZ2E",
        "colab_type": "text"
      },
      "source": [
        "<!--Empty Space for separating topics-->"
      ]
    },
    {
      "cell_type": "markdown",
      "metadata": {
        "id": "tH3OLji3tZ2F",
        "colab_type": "text"
      },
      "source": [
        "**Complete the following code to calculate  the accuracy on the validation data for one epoch; this should take about 45 minutes. Make sure you calculate the accuracy on the validation data.**"
      ]
    },
    {
      "cell_type": "code",
      "metadata": {
        "id": "QtcXPc_BtZ2G",
        "colab_type": "code",
        "colab": {}
      },
      "source": [
        "n_epochs=1\n",
        "loss_list=[]\n",
        "accuracy_list=[]\n",
        "correct=0\n",
        "N_test=len(validation_dataset)\n",
        "N_train=len(train_dataset)\n",
        "start_time = time.time()\n",
        "\n",
        "\n",
        "\n",
        "start_time = time.time()\n",
        "\n",
        "for epoch in range(n_epochs):\n",
        "    loss_sublist=[] \n",
        "    for x, y in train_loader:\n",
        "\n",
        "        model.train() \n",
        "        #clear gradient \n",
        "        optimizer.zero_grad()\n",
        "        #make a prediction \n",
        "        z = model(x)\n",
        "        # calculate loss \n",
        "        loss = loss_function(z,y)\n",
        "        loss_sublist.append(loss.data.item())  #loss_sublist contains loss for each iteration\n",
        "        # calculate gradients of parameters \n",
        "        loss.backward()\n",
        "        # update parameters \n",
        "        optimizer.step()\n",
        "    loss_list.append(np.mean(loss_sublist))    # loss_list contains loss for each epoch\n",
        "        \n",
        "    \n",
        "        \n",
        "    correct =0\n",
        "    for x_test, y_test in validation_loader:\n",
        "        # set model to eval\n",
        "        model.eval()\n",
        "        #make a prediction\n",
        "        z = model(x_test)\n",
        "        #find max \n",
        "        _,yhat = torch.max(z.data, 1)\n",
        "        correct += (yhat== y_test).sum().item()\n",
        "         \n",
        "        \n",
        "        \n",
        "        \n",
        "        \n",
        "            \n",
        "    accuracy=correct/N_test\n",
        "    accuracy_list.append(accuracy)\n",
        "    \n",
        "       \n",
        "    "
      ],
      "execution_count": 0,
      "outputs": []
    },
    {
      "cell_type": "markdown",
      "metadata": {
        "id": "8KvGetCUtZ2K",
        "colab_type": "text"
      },
      "source": [
        "<b>Print out the Accuracy and plot the loss stored in the list <code>loss_list</code> for every iteration and take a screen shot.</b>"
      ]
    },
    {
      "cell_type": "code",
      "metadata": {
        "id": "I5AcL1f7tZ2L",
        "colab_type": "code",
        "colab": {
          "base_uri": "https://localhost:8080/",
          "height": 34
        },
        "outputId": "2906c315-ecdb-41a5-fa8f-249fd7a9c774"
      },
      "source": [
        "print(accuracy)\n"
      ],
      "execution_count": 18,
      "outputs": [
        {
          "output_type": "stream",
          "text": [
            "0.994\n"
          ],
          "name": "stdout"
        }
      ]
    },
    {
      "cell_type": "code",
      "metadata": {
        "id": "AMheXYeptZ2O",
        "colab_type": "code",
        "colab": {
          "base_uri": "https://localhost:8080/",
          "height": 279
        },
        "outputId": "18d3c6ba-e23b-403a-abab-bbced8ec0b1e"
      },
      "source": [
        "plt.plot(loss_sublist)\n",
        "plt.xlabel(\"iteration\")\n",
        "plt.ylabel(\"loss\")\n",
        "plt.show()\n"
      ],
      "execution_count": 19,
      "outputs": [
        {
          "output_type": "display_data",
          "data": {
            "image/png": "[encoded data removed]",
            "text/plain": [
              "<Figure size 432x288 with 1 Axes>"
            ]
          },
          "metadata": {
            "tags": []
          }
        }
      ]
    },
    {
      "cell_type": "markdown",
      "metadata": {
        "id": "ULEgPTjmtZ2R",
        "colab_type": "text"
      },
      "source": [
        "<h2 id=\"Question_3\">Question 3:Find the misclassified samples</h2> "
      ]
    },
    {
      "cell_type": "markdown",
      "metadata": {
        "id": "pdmQcz2VtZ2S",
        "colab_type": "text"
      },
      "source": [
        "<b>Identify the first four misclassified samples using the validation data:</b>"
      ]
    },
    {
      "cell_type": "code",
      "metadata": {
        "id": "HaKPOHu6tZ2S",
        "colab_type": "code",
        "colab": {
          "base_uri": "https://localhost:8080/",
          "height": 1000
        },
        "outputId": "c512cbf9-2795-4e99-b0d5-1543d71b970a"
      },
      "source": [
        "misclassified_list = []\n",
        "count=0\n",
        "\n",
        "for x_test, y_test in validation_loader:\n",
        "  \n",
        "     \n",
        "    #make a prediction\n",
        "    z = model(x_test)\n",
        "    #find max \n",
        "    _,yhat = torch.max(z.data, 1)\n",
        "    if  (yhat == y_test).sum().item() != 1:\n",
        "        misclassified_list.append(x_test)\n",
        "        count += 1\n",
        "    if count >=4:\n",
        "        break\n",
        "   \n",
        "print(misclassified_list)\n"
      ],
      "execution_count": 20,
      "outputs": [
        {
          "output_type": "stream",
          "text": [
            "[tensor([[[[ 0.8961,  0.8618,  0.7077,  ...,  0.8618,  0.6906,  0.5707],\n",
            "          [ 0.9132,  0.8618,  0.6906,  ...,  0.7419,  0.5878,  0.5022],\n",
            "          [ 0.9132,  0.8447,  0.6563,  ...,  0.5878,  0.5022,  0.4679],\n",
            "          ...,\n",
            "          [ 1.1529,  1.2557,  1.2043,  ...,  0.4679,  0.4679,  0.4679],\n",
            "          [ 0.9474,  1.0159,  0.9988,  ...,  0.5536,  0.5707,  0.5878],\n",
            "          [ 0.8447,  0.8618,  0.8276,  ...,  0.4851,  0.5364,  0.5878]],\n",
            "\n",
            "         [[ 1.0455,  1.0105,  0.8529,  ...,  0.9930,  0.8179,  0.6954],\n",
            "          [ 1.0630,  1.0105,  0.8354,  ...,  0.8704,  0.7129,  0.6254],\n",
            "          [ 1.0630,  0.9930,  0.8004,  ...,  0.7129,  0.6254,  0.5903],\n",
            "          ...,\n",
            "          [ 1.2906,  1.3782,  1.3256,  ...,  0.5378,  0.5378,  0.5378],\n",
            "          [ 1.0805,  1.1506,  1.1331,  ...,  0.6254,  0.6429,  0.6604],\n",
            "          [ 0.9755,  0.9930,  0.9580,  ...,  0.5553,  0.6078,  0.6604]],\n",
            "\n",
            "         [[ 1.2282,  1.1934,  1.0365,  ...,  1.1411,  0.9668,  0.8448],\n",
            "          [ 1.2457,  1.1934,  1.0191,  ...,  1.0191,  0.8622,  0.7751],\n",
            "          [ 1.2457,  1.1759,  0.9842,  ...,  0.8622,  0.7751,  0.7402],\n",
            "          ...,\n",
            "          [ 1.4897,  1.5768,  1.5245,  ...,  0.7054,  0.7054,  0.7054],\n",
            "          [ 1.2631,  1.3328,  1.3154,  ...,  0.7925,  0.8099,  0.8274],\n",
            "          [ 1.1585,  1.1759,  1.1411,  ...,  0.7228,  0.7751,  0.8274]]],\n",
            "\n",
            "\n",
            "        [[[ 1.3755,  1.3755,  1.3755,  ...,  1.1529,  1.1529,  1.1529],\n",
            "          [ 1.3584,  1.3584,  1.3584,  ...,  1.1700,  1.1700,  1.1700],\n",
            "          [ 1.3413,  1.3413,  1.3413,  ...,  1.2043,  1.2043,  1.2043],\n",
            "          ...,\n",
            "          [ 1.1187,  1.1015,  1.1015,  ...,  1.1015,  1.1015,  1.1015],\n",
            "          [ 1.1872,  1.1529,  1.1358,  ...,  1.1015,  1.1015,  1.1015],\n",
            "          [ 1.2385,  1.2043,  1.1700,  ...,  1.1015,  1.1015,  1.1015]],\n",
            "\n",
            "         [[ 1.3081,  1.3081,  1.3081,  ...,  1.1506,  1.1506,  1.1506],\n",
            "          [ 1.2906,  1.2906,  1.2906,  ...,  1.1681,  1.1681,  1.1681],\n",
            "          [ 1.2731,  1.2731,  1.2731,  ...,  1.2031,  1.2031,  1.2031],\n",
            "          ...,\n",
            "          [ 1.1331,  1.1155,  1.1155,  ...,  1.0980,  1.0980,  1.0980],\n",
            "          [ 1.2031,  1.1681,  1.1506,  ...,  1.0980,  1.0980,  1.0980],\n",
            "          [ 1.2556,  1.2206,  1.1856,  ...,  1.0980,  1.0980,  1.0980]],\n",
            "\n",
            "         [[ 1.3677,  1.3677,  1.3677,  ...,  1.2108,  1.2108,  1.2108],\n",
            "          [ 1.3502,  1.3502,  1.3502,  ...,  1.2282,  1.2282,  1.2282],\n",
            "          [ 1.3328,  1.3328,  1.3328,  ...,  1.2631,  1.2631,  1.2631],\n",
            "          ...,\n",
            "          [ 1.1585,  1.1411,  1.1411,  ...,  1.1585,  1.1585,  1.1585],\n",
            "          [ 1.2282,  1.1934,  1.1759,  ...,  1.1585,  1.1585,  1.1585],\n",
            "          [ 1.2805,  1.2457,  1.2108,  ...,  1.1585,  1.1585,  1.1585]]],\n",
            "\n",
            "\n",
            "        [[[ 1.0673,  1.0673,  1.0673,  ...,  1.2214,  1.2899,  1.3584],\n",
            "          [ 1.1015,  1.1187,  1.1358,  ...,  1.2214,  1.2728,  1.3242],\n",
            "          [ 1.1529,  1.1872,  1.2214,  ...,  1.2214,  1.2557,  1.3070],\n",
            "          ...,\n",
            "          [-0.9534, -0.9877, -0.9877,  ...,  1.3755,  1.3755,  1.3755],\n",
            "          [-0.9534, -0.9877, -0.9705,  ...,  1.4098,  1.4098,  1.4098],\n",
            "          [-0.9705, -0.9877, -0.9705,  ...,  1.4440,  1.4440,  1.4440]],\n",
            "\n",
            "         [[ 1.0805,  1.0805,  1.0805,  ...,  1.1681,  1.2381,  1.3081],\n",
            "          [ 1.1155,  1.1331,  1.1506,  ...,  1.1681,  1.2206,  1.2731],\n",
            "          [ 1.1681,  1.2031,  1.2381,  ...,  1.1681,  1.2031,  1.2556],\n",
            "          ...,\n",
            "          [-0.9153, -0.9503, -0.9503,  ...,  1.3957,  1.3957,  1.3957],\n",
            "          [-0.9153, -0.9503, -0.9328,  ...,  1.4307,  1.4307,  1.4307],\n",
            "          [-0.9328, -0.9503, -0.9328,  ...,  1.4657,  1.4657,  1.4657]],\n",
            "\n",
            "         [[ 1.0714,  1.0714,  1.0714,  ...,  1.1759,  1.2457,  1.3154],\n",
            "          [ 1.1062,  1.1237,  1.1411,  ...,  1.1759,  1.2282,  1.2805],\n",
            "          [ 1.1585,  1.1934,  1.2282,  ...,  1.1759,  1.2108,  1.2631],\n",
            "          ...,\n",
            "          [-0.7413, -0.7761, -0.7761,  ...,  1.4200,  1.4200,  1.4200],\n",
            "          [-0.7413, -0.7761, -0.7587,  ...,  1.4548,  1.4548,  1.4548],\n",
            "          [-0.7587, -0.7761, -0.7587,  ...,  1.4897,  1.4897,  1.4897]]],\n",
            "\n",
            "\n",
            "        ...,\n",
            "\n",
            "\n",
            "        [[[ 0.9303,  0.9303,  0.9303,  ...,  0.8104,  0.8104,  0.8276],\n",
            "          [ 0.9646,  0.9646,  0.9474,  ...,  0.7933,  0.7933,  0.7933],\n",
            "          [ 1.0159,  0.9988,  0.9646,  ...,  0.7762,  0.7591,  0.7591],\n",
            "          ...,\n",
            "          [ 1.0159,  1.0331,  1.0502,  ...,  0.8104,  0.7933,  0.7933],\n",
            "          [ 1.0159,  1.0331,  1.0502,  ...,  0.7419,  0.7419,  0.7419],\n",
            "          [ 0.9988,  1.0331,  1.0502,  ...,  0.6906,  0.6906,  0.6906]],\n",
            "\n",
            "         [[ 0.9405,  0.9405,  0.9405,  ...,  0.8179,  0.8179,  0.8354],\n",
            "          [ 0.9755,  0.9755,  0.9580,  ...,  0.8004,  0.8004,  0.8004],\n",
            "          [ 1.0280,  1.0105,  0.9755,  ...,  0.7829,  0.7654,  0.7654],\n",
            "          ...,\n",
            "          [ 1.0280,  1.0455,  1.0630,  ...,  0.8004,  0.8004,  0.8004],\n",
            "          [ 1.0280,  1.0455,  1.0630,  ...,  0.7479,  0.7479,  0.7479],\n",
            "          [ 1.0105,  1.0455,  1.0630,  ...,  0.6954,  0.6954,  0.6954]],\n",
            "\n",
            "         [[ 0.9319,  0.9319,  0.9319,  ...,  0.8448,  0.8448,  0.8622],\n",
            "          [ 0.9668,  0.9668,  0.9494,  ...,  0.8274,  0.8274,  0.8274],\n",
            "          [ 1.0191,  1.0017,  0.9668,  ...,  0.8099,  0.7925,  0.7925],\n",
            "          ...,\n",
            "          [ 1.0191,  1.0365,  1.0539,  ...,  0.8099,  0.7925,  0.7925],\n",
            "          [ 1.0191,  1.0365,  1.0539,  ...,  0.7402,  0.7402,  0.7402],\n",
            "          [ 1.0017,  1.0365,  1.0539,  ...,  0.6879,  0.6879,  0.6879]]],\n",
            "\n",
            "\n",
            "        [[[ 1.8037,  1.8037,  1.8208,  ...,  1.5468,  1.5639,  1.5810],\n",
            "          [ 1.8037,  1.8208,  1.8208,  ...,  1.5125,  1.5297,  1.5639],\n",
            "          [ 1.8208,  1.8208,  1.8379,  ...,  1.4783,  1.4954,  1.5125],\n",
            "          ...,\n",
            "          [ 1.6838,  1.6838,  1.6838,  ...,  1.4269,  1.4783,  1.5468],\n",
            "          [ 1.6838,  1.6838,  1.6838,  ...,  1.4612,  1.5297,  1.5982],\n",
            "          [ 1.6838,  1.6838,  1.6838,  ...,  1.5125,  1.5639,  1.6324]],\n",
            "\n",
            "         [[ 1.9034,  1.9034,  1.9209,  ...,  1.6583,  1.6758,  1.6933],\n",
            "          [ 1.9034,  1.9209,  1.9209,  ...,  1.6232,  1.6408,  1.6758],\n",
            "          [ 1.9209,  1.9209,  1.9384,  ...,  1.5882,  1.6057,  1.6232],\n",
            "          ...,\n",
            "          [ 1.7808,  1.7808,  1.7808,  ...,  1.4482,  1.5007,  1.5707],\n",
            "          [ 1.7808,  1.7808,  1.7808,  ...,  1.4832,  1.5532,  1.6232],\n",
            "          [ 1.7808,  1.7808,  1.7808,  ...,  1.5357,  1.5882,  1.6583]],\n",
            "\n",
            "         [[ 1.9080,  1.9080,  1.9254,  ...,  1.7860,  1.8034,  1.8208],\n",
            "          [ 1.9080,  1.9254,  1.9254,  ...,  1.7511,  1.7685,  1.8034],\n",
            "          [ 1.9254,  1.9254,  1.9428,  ...,  1.7163,  1.7337,  1.7511],\n",
            "          ...,\n",
            "          [ 1.7860,  1.7860,  1.7860,  ...,  1.4722,  1.5245,  1.5942],\n",
            "          [ 1.7860,  1.7860,  1.7860,  ...,  1.5071,  1.5768,  1.6465],\n",
            "          [ 1.7860,  1.7860,  1.7860,  ...,  1.5594,  1.6117,  1.6814]]],\n",
            "\n",
            "\n",
            "        [[[ 1.4440,  1.4612,  1.4954,  ...,  1.3242,  1.3070,  1.2899],\n",
            "          [ 1.4783,  1.4954,  1.5125,  ...,  1.3242,  1.3070,  1.2899],\n",
            "          [ 1.5125,  1.5297,  1.5297,  ...,  1.3070,  1.2899,  1.2728],\n",
            "          ...,\n",
            "          [ 1.3242,  1.3755,  1.4269,  ...,  1.4612,  1.4440,  1.4269],\n",
            "          [ 1.3070,  1.3584,  1.4098,  ...,  1.4612,  1.4440,  1.4269],\n",
            "          [ 1.2899,  1.3413,  1.3755,  ...,  1.4612,  1.4440,  1.4269]],\n",
            "\n",
            "         [[ 1.3957,  1.4132,  1.4482,  ...,  1.3081,  1.2906,  1.2731],\n",
            "          [ 1.4307,  1.4482,  1.4657,  ...,  1.3081,  1.2906,  1.2731],\n",
            "          [ 1.4657,  1.4832,  1.4832,  ...,  1.2906,  1.2731,  1.2556],\n",
            "          ...,\n",
            "          [ 1.3081,  1.3606,  1.4132,  ...,  1.4132,  1.3957,  1.3782],\n",
            "          [ 1.2906,  1.3431,  1.3957,  ...,  1.4132,  1.3957,  1.3782],\n",
            "          [ 1.2731,  1.3256,  1.3606,  ...,  1.4132,  1.3957,  1.3782]],\n",
            "\n",
            "         [[ 1.3677,  1.3851,  1.4200,  ...,  1.3154,  1.2980,  1.2805],\n",
            "          [ 1.4025,  1.4200,  1.4374,  ...,  1.3154,  1.2980,  1.2805],\n",
            "          [ 1.4374,  1.4548,  1.4548,  ...,  1.2980,  1.2805,  1.2631],\n",
            "          ...,\n",
            "          [ 1.3154,  1.3677,  1.4200,  ...,  1.3851,  1.3677,  1.3502],\n",
            "          [ 1.2980,  1.3502,  1.4025,  ...,  1.3851,  1.3677,  1.3502],\n",
            "          [ 1.2805,  1.3328,  1.3677,  ...,  1.3851,  1.3677,  1.3502]]]]), tensor([[[[ 1.3070,  1.2214,  1.1872,  ..., -0.9705, -0.9705, -0.9705],\n",
            "          [ 1.4440,  1.3584,  1.2728,  ..., -1.0390, -1.0562, -1.0904],\n",
            "          [ 1.5810,  1.4612,  1.3413,  ..., -0.9877, -1.0562, -1.1075],\n",
            "          ...,\n",
            "          [ 1.4783,  1.4954,  1.5297,  ...,  1.2214,  1.2043,  1.1872],\n",
            "          [ 1.4783,  1.4954,  1.5297,  ...,  1.2214,  1.2043,  1.1872],\n",
            "          [ 1.4954,  1.4954,  1.5125,  ...,  1.2214,  1.2214,  1.2043]],\n",
            "\n",
            "         [[ 1.3957,  1.3081,  1.2731,  ..., -0.8627, -0.8627, -0.8627],\n",
            "          [ 1.5357,  1.4482,  1.3606,  ..., -0.9328, -0.9503, -0.9853],\n",
            "          [ 1.6758,  1.5532,  1.4307,  ..., -0.8803, -0.9503, -1.0028],\n",
            "          ...,\n",
            "          [ 1.5882,  1.6057,  1.6408,  ...,  1.3606,  1.3431,  1.3256],\n",
            "          [ 1.5882,  1.6057,  1.6408,  ...,  1.3606,  1.3431,  1.3256],\n",
            "          [ 1.6057,  1.6057,  1.6232,  ...,  1.3606,  1.3606,  1.3431]],\n",
            "\n",
            "         [[ 1.5594,  1.4722,  1.4374,  ..., -0.6018, -0.6018, -0.6018],\n",
            "          [ 1.6988,  1.6117,  1.5245,  ..., -0.6715, -0.6890, -0.7238],\n",
            "          [ 1.8383,  1.7163,  1.5942,  ..., -0.6193, -0.6890, -0.7413],\n",
            "          ...,\n",
            "          [ 1.7163,  1.7337,  1.7685,  ...,  1.4897,  1.4722,  1.4548],\n",
            "          [ 1.7163,  1.7337,  1.7685,  ...,  1.4897,  1.4722,  1.4548],\n",
            "          [ 1.7337,  1.7337,  1.7511,  ...,  1.4897,  1.4897,  1.4722]]],\n",
            "\n",
            "\n",
            "        [[[ 1.1187,  1.1187,  1.1187,  ...,  0.9303,  0.9303,  0.9303],\n",
            "          [ 1.1358,  1.1358,  1.1358,  ...,  0.8961,  0.8961,  0.8961],\n",
            "          [ 1.1358,  1.1358,  1.1358,  ...,  0.8789,  0.8789,  0.8789],\n",
            "          ...,\n",
            "          [ 0.7591,  0.7933,  0.8618,  ...,  0.6734,  0.6563,  0.6392],\n",
            "          [ 0.7591,  0.7933,  0.8618,  ...,  0.6734,  0.6563,  0.6392],\n",
            "          [ 0.7591,  0.7933,  0.8618,  ...,  0.6734,  0.6563,  0.6392]],\n",
            "\n",
            "         [[ 0.9055,  0.9055,  0.9055,  ...,  0.1352,  0.1352,  0.1352],\n",
            "          [ 0.9230,  0.9230,  0.9230,  ...,  0.1001,  0.1001,  0.1001],\n",
            "          [ 0.9230,  0.9230,  0.9230,  ...,  0.0826,  0.0826,  0.0826],\n",
            "          ...,\n",
            "          [ 0.7479,  0.7829,  0.8529,  ..., -0.0399, -0.0574, -0.0749],\n",
            "          [ 0.7479,  0.7829,  0.8529,  ..., -0.0399, -0.0574, -0.0749],\n",
            "          [ 0.7479,  0.7829,  0.8529,  ..., -0.0399, -0.0574, -0.0749]],\n",
            "\n",
            "         [[ 0.7925,  0.7925,  0.7925,  ..., -0.3055, -0.3055, -0.3055],\n",
            "          [ 0.8099,  0.8099,  0.8099,  ..., -0.3404, -0.3404, -0.3404],\n",
            "          [ 0.8099,  0.8099,  0.8099,  ..., -0.3578, -0.3578, -0.3578],\n",
            "          ...,\n",
            "          [ 0.6705,  0.7054,  0.7751,  ..., -0.3753, -0.3927, -0.4101],\n",
            "          [ 0.6705,  0.7054,  0.7751,  ..., -0.3753, -0.3927, -0.4101],\n",
            "          [ 0.6705,  0.7054,  0.7751,  ..., -0.3753, -0.3927, -0.4101]]],\n",
            "\n",
            "\n",
            "        [[[ 1.2899,  1.2557,  1.2385,  ...,  1.3584,  1.3584,  1.3755],\n",
            "          [ 1.3070,  1.2728,  1.2557,  ...,  1.3927,  1.3927,  1.4098],\n",
            "          [ 1.3413,  1.3070,  1.2728,  ...,  1.4440,  1.4440,  1.4440],\n",
            "          ...,\n",
            "          [-0.6452, -0.6452, -0.6452,  ...,  1.2728,  1.2899,  1.3070],\n",
            "          [-0.6452, -0.6452, -0.6452,  ...,  1.3070,  1.3242,  1.3413],\n",
            "          [-0.6623, -0.6452, -0.6452,  ...,  1.3413,  1.3584,  1.3755]],\n",
            "\n",
            "         [[ 1.3606,  1.3256,  1.3081,  ...,  1.4307,  1.4307,  1.4482],\n",
            "          [ 1.3782,  1.3431,  1.3256,  ...,  1.4657,  1.4657,  1.4832],\n",
            "          [ 1.4132,  1.3782,  1.3431,  ...,  1.5182,  1.5182,  1.5182],\n",
            "          ...,\n",
            "          [-0.6001, -0.6001, -0.5826,  ...,  1.3431,  1.3606,  1.3782],\n",
            "          [-0.6001, -0.6001, -0.6001,  ...,  1.3782,  1.3957,  1.4132],\n",
            "          [-0.6176, -0.6001, -0.6001,  ...,  1.4132,  1.4307,  1.4482]],\n",
            "\n",
            "         [[ 1.4722,  1.4374,  1.4200,  ...,  1.5420,  1.5420,  1.5594],\n",
            "          [ 1.4897,  1.4548,  1.4374,  ...,  1.5768,  1.5768,  1.5942],\n",
            "          [ 1.5245,  1.4897,  1.4548,  ...,  1.6291,  1.6291,  1.6291],\n",
            "          ...,\n",
            "          [-0.4275, -0.4275, -0.4275,  ...,  1.4897,  1.5071,  1.5245],\n",
            "          [-0.4275, -0.4275, -0.4275,  ...,  1.5245,  1.5420,  1.5594],\n",
            "          [-0.4450, -0.4275, -0.4275,  ...,  1.5594,  1.5768,  1.5942]]],\n",
            "\n",
            "\n",
            "        ...,\n",
            "\n",
            "\n",
            "        [[[ 1.3413,  1.3413,  1.3413,  ...,  1.4612,  1.4612,  1.4612],\n",
            "          [ 1.3242,  1.3242,  1.3242,  ...,  1.4783,  1.4783,  1.4783],\n",
            "          [ 1.3070,  1.3242,  1.3242,  ...,  1.4783,  1.4783,  1.4783],\n",
            "          ...,\n",
            "          [ 1.1872,  1.1700,  1.1529,  ...,  1.2899,  1.2385,  1.1872],\n",
            "          [ 1.2214,  1.1872,  1.1700,  ...,  1.2899,  1.2385,  1.1872],\n",
            "          [ 1.2385,  1.2043,  1.1872,  ...,  1.2899,  1.2557,  1.2043]],\n",
            "\n",
            "         [[ 1.4307,  1.4307,  1.4307,  ...,  1.5882,  1.5882,  1.5882],\n",
            "          [ 1.4132,  1.4132,  1.4132,  ...,  1.6057,  1.6057,  1.6057],\n",
            "          [ 1.3957,  1.4132,  1.4132,  ...,  1.6057,  1.6057,  1.6057],\n",
            "          ...,\n",
            "          [ 1.2731,  1.2556,  1.2381,  ...,  1.3782,  1.3256,  1.2731],\n",
            "          [ 1.3081,  1.2731,  1.2556,  ...,  1.3782,  1.3256,  1.2731],\n",
            "          [ 1.3256,  1.2906,  1.2731,  ...,  1.3782,  1.3431,  1.2906]],\n",
            "\n",
            "         [[ 1.4374,  1.4374,  1.4374,  ...,  1.5768,  1.5768,  1.5768],\n",
            "          [ 1.4200,  1.4200,  1.4200,  ...,  1.5942,  1.5942,  1.5942],\n",
            "          [ 1.4025,  1.4200,  1.4200,  ...,  1.5942,  1.5942,  1.5942],\n",
            "          ...,\n",
            "          [ 1.2805,  1.2631,  1.2457,  ...,  1.4025,  1.3502,  1.2980],\n",
            "          [ 1.3154,  1.2805,  1.2631,  ...,  1.4025,  1.3502,  1.2980],\n",
            "          [ 1.3328,  1.2980,  1.2805,  ...,  1.4025,  1.3677,  1.3154]]],\n",
            "\n",
            "\n",
            "        [[[ 0.9474,  0.9303,  0.9132,  ...,  1.1015,  1.1015,  1.1015],\n",
            "          [ 0.9817,  0.9817,  0.9646,  ...,  0.9817,  0.9817,  0.9817],\n",
            "          [ 1.0331,  1.0331,  1.0159,  ...,  0.8789,  0.8789,  0.8789],\n",
            "          ...,\n",
            "          [ 0.0569,  0.1254,  0.1597,  ...,  0.9474,  1.0673,  1.1358],\n",
            "          [ 0.0569,  0.1426,  0.1768,  ...,  0.7077,  0.8618,  0.9474],\n",
            "          [ 0.0912,  0.1597,  0.1939,  ...,  0.4851,  0.6563,  0.7762]],\n",
            "\n",
            "         [[ 0.9580,  0.9405,  0.9230,  ...,  1.1155,  1.1155,  1.1155],\n",
            "          [ 0.9930,  0.9930,  0.9755,  ...,  0.9930,  0.9930,  0.9930],\n",
            "          [ 1.0455,  1.0455,  1.0280,  ...,  0.8880,  0.8880,  0.8880],\n",
            "          ...,\n",
            "          [-0.0224,  0.0476,  0.0826,  ...,  0.9580,  1.0805,  1.1506],\n",
            "          [-0.0224,  0.0651,  0.1001,  ...,  0.7129,  0.8704,  0.9580],\n",
            "          [ 0.0126,  0.0826,  0.1176,  ...,  0.4853,  0.6604,  0.7829]],\n",
            "\n",
            "         [[ 0.9842,  0.9668,  0.9494,  ...,  1.1411,  1.1411,  1.1411],\n",
            "          [ 1.0191,  1.0191,  1.0017,  ...,  1.0191,  1.0191,  1.0191],\n",
            "          [ 1.0714,  1.0714,  1.0539,  ...,  0.9145,  0.9145,  0.9145],\n",
            "          ...,\n",
            "          [-0.0092,  0.0605,  0.0953,  ...,  0.9494,  1.0714,  1.1411],\n",
            "          [-0.0092,  0.0779,  0.1128,  ...,  0.7054,  0.8622,  0.9494],\n",
            "          [ 0.0256,  0.0953,  0.1302,  ...,  0.4788,  0.6531,  0.7751]]],\n",
            "\n",
            "\n",
            "        [[[ 1.4098,  1.4098,  1.4098,  ...,  1.5468,  1.5297,  1.4954],\n",
            "          [ 1.4783,  1.4612,  1.4440,  ...,  1.5125,  1.5125,  1.4783],\n",
            "          [ 1.5297,  1.5297,  1.4954,  ...,  1.4954,  1.4783,  1.4612],\n",
            "          ...,\n",
            "          [ 1.0844,  1.1358,  1.1700,  ...,  1.2043,  1.2043,  1.2043],\n",
            "          [ 1.1187,  1.1529,  1.1872,  ...,  1.2043,  1.2043,  1.2043],\n",
            "          [ 1.1358,  1.1872,  1.2043,  ...,  1.2043,  1.2043,  1.2043]],\n",
            "\n",
            "         [[ 1.4132,  1.4132,  1.4132,  ...,  1.5707,  1.5532,  1.5182],\n",
            "          [ 1.4832,  1.4657,  1.4482,  ...,  1.5357,  1.5357,  1.5007],\n",
            "          [ 1.5357,  1.5357,  1.5007,  ...,  1.5182,  1.5007,  1.4832],\n",
            "          ...,\n",
            "          [ 1.0805,  1.1331,  1.1681,  ...,  1.2206,  1.2206,  1.2206],\n",
            "          [ 1.1155,  1.1506,  1.1856,  ...,  1.2206,  1.2206,  1.2206],\n",
            "          [ 1.1331,  1.1856,  1.2031,  ...,  1.2206,  1.2206,  1.2206]],\n",
            "\n",
            "         [[ 1.4722,  1.4722,  1.4722,  ...,  1.5942,  1.5768,  1.5420],\n",
            "          [ 1.5420,  1.5245,  1.5071,  ...,  1.5594,  1.5594,  1.5245],\n",
            "          [ 1.5942,  1.5942,  1.5594,  ...,  1.5420,  1.5245,  1.5071],\n",
            "          ...,\n",
            "          [ 1.1411,  1.1934,  1.2282,  ...,  1.2457,  1.2457,  1.2457],\n",
            "          [ 1.1759,  1.2108,  1.2457,  ...,  1.2457,  1.2457,  1.2457],\n",
            "          [ 1.1934,  1.2457,  1.2631,  ...,  1.2457,  1.2457,  1.2457]]]]), tensor([[[[1.2557, 1.2899, 1.3242,  ..., 1.1529, 1.1358, 1.1358],\n",
            "          [1.2214, 1.2385, 1.2728,  ..., 1.1358, 1.1358, 1.1187],\n",
            "          [1.1872, 1.1872, 1.1872,  ..., 1.1187, 1.1187, 1.1187],\n",
            "          ...,\n",
            "          [1.3584, 1.3755, 1.3927,  ..., 1.2728, 1.2728, 1.2728],\n",
            "          [1.3413, 1.3584, 1.3755,  ..., 1.2728, 1.2728, 1.2728],\n",
            "          [1.3242, 1.3413, 1.3413,  ..., 1.2728, 1.2728, 1.2728]],\n",
            "\n",
            "         [[1.3431, 1.3782, 1.4132,  ..., 1.2556, 1.2381, 1.2381],\n",
            "          [1.3081, 1.3256, 1.3606,  ..., 1.2381, 1.2381, 1.2206],\n",
            "          [1.2731, 1.2731, 1.2731,  ..., 1.2206, 1.2206, 1.2206],\n",
            "          ...,\n",
            "          [1.4482, 1.4657, 1.4832,  ..., 1.3606, 1.3606, 1.3606],\n",
            "          [1.4307, 1.4482, 1.4657,  ..., 1.3606, 1.3606, 1.3606],\n",
            "          [1.4132, 1.4307, 1.4307,  ..., 1.3606, 1.3606, 1.3606]],\n",
            "\n",
            "         [[1.3677, 1.4025, 1.4374,  ..., 1.3502, 1.3328, 1.3328],\n",
            "          [1.3328, 1.3502, 1.3851,  ..., 1.3328, 1.3328, 1.3154],\n",
            "          [1.2980, 1.2980, 1.2980,  ..., 1.3154, 1.3154, 1.3154],\n",
            "          ...,\n",
            "          [1.4722, 1.4897, 1.5071,  ..., 1.3851, 1.3851, 1.3851],\n",
            "          [1.4548, 1.4722, 1.4897,  ..., 1.3851, 1.3851, 1.3851],\n",
            "          [1.4374, 1.4548, 1.4548,  ..., 1.3851, 1.3851, 1.3851]]],\n",
            "\n",
            "\n",
            "        [[[1.2214, 1.2043, 1.1700,  ..., 0.5536, 0.5707, 0.5707],\n",
            "          [1.1529, 1.1358, 1.1358,  ..., 0.5536, 0.5536, 0.5707],\n",
            "          [1.0673, 1.0673, 1.0673,  ..., 0.4679, 0.4851, 0.4851],\n",
            "          ...,\n",
            "          [0.9817, 1.0502, 1.0844,  ..., 0.7248, 0.7762, 0.8276],\n",
            "          [1.0159, 1.0673, 1.1015,  ..., 0.7591, 0.8104, 0.8618],\n",
            "          [1.0673, 1.1015, 1.1015,  ..., 0.7933, 0.8447, 0.8961]],\n",
            "\n",
            "         [[1.1506, 1.1331, 1.0980,  ..., 0.5203, 0.5378, 0.5378],\n",
            "          [1.0805, 1.0630, 1.0630,  ..., 0.5203, 0.5203, 0.5378],\n",
            "          [0.9930, 0.9930, 0.9930,  ..., 0.4328, 0.4503, 0.4503],\n",
            "          ...,\n",
            "          [0.9580, 1.0280, 1.0630,  ..., 0.6954, 0.7479, 0.8004],\n",
            "          [0.9930, 1.0455, 1.0805,  ..., 0.7304, 0.7829, 0.8354],\n",
            "          [1.0455, 1.0805, 1.0805,  ..., 0.7654, 0.8179, 0.8704]],\n",
            "\n",
            "         [[1.2108, 1.1934, 1.1585,  ..., 0.5659, 0.5834, 0.5834],\n",
            "          [1.1411, 1.1237, 1.1237,  ..., 0.5659, 0.5659, 0.5834],\n",
            "          [1.0539, 1.0539, 1.0539,  ..., 0.4788, 0.4962, 0.4962],\n",
            "          ...,\n",
            "          [0.9668, 1.0365, 1.0714,  ..., 0.7576, 0.8099, 0.8622],\n",
            "          [1.0017, 1.0539, 1.0888,  ..., 0.7925, 0.8448, 0.8971],\n",
            "          [1.0539, 1.0888, 1.0888,  ..., 0.8274, 0.8797, 0.9319]]],\n",
            "\n",
            "\n",
            "        [[[0.9817, 0.9988, 1.0331,  ..., 0.9474, 0.9474, 0.9474],\n",
            "          [1.0159, 1.0331, 1.0331,  ..., 0.9303, 0.9303, 0.9303],\n",
            "          [1.0502, 1.0331, 1.0159,  ..., 0.9132, 0.9132, 0.9132],\n",
            "          ...,\n",
            "          [0.8618, 0.8961, 0.9474,  ..., 0.6392, 0.6734, 0.7248],\n",
            "          [0.8276, 0.8618, 0.9132,  ..., 0.6221, 0.6734, 0.7248],\n",
            "          [0.7762, 0.8104, 0.8618,  ..., 0.6221, 0.6734, 0.7248]],\n",
            "\n",
            "         [[0.9055, 0.9230, 0.9580,  ..., 0.9230, 0.9230, 0.9230],\n",
            "          [0.9405, 0.9580, 0.9580,  ..., 0.9055, 0.9055, 0.9055],\n",
            "          [0.9755, 0.9580, 0.9405,  ..., 0.8880, 0.8880, 0.8880],\n",
            "          ...,\n",
            "          [0.8004, 0.8354, 0.8880,  ..., 0.5553, 0.5903, 0.6429],\n",
            "          [0.7654, 0.8004, 0.8529,  ..., 0.5378, 0.5903, 0.6429],\n",
            "          [0.7129, 0.7479, 0.8004,  ..., 0.5378, 0.5903, 0.6429]],\n",
            "\n",
            "         [[0.9668, 0.9842, 1.0191,  ..., 0.9842, 0.9842, 0.9842],\n",
            "          [1.0017, 1.0191, 1.0191,  ..., 0.9668, 0.9668, 0.9668],\n",
            "          [1.0365, 1.0191, 1.0017,  ..., 0.9494, 0.9494, 0.9494],\n",
            "          ...,\n",
            "          [0.8099, 0.8448, 0.8971,  ..., 0.6182, 0.6531, 0.7054],\n",
            "          [0.7751, 0.8099, 0.8622,  ..., 0.6008, 0.6531, 0.7054],\n",
            "          [0.7228, 0.7576, 0.8099,  ..., 0.6008, 0.6531, 0.7054]]],\n",
            "\n",
            "\n",
            "        ...,\n",
            "\n",
            "\n",
            "        [[[1.1187, 1.1187, 0.9646,  ..., 1.3413, 1.3413, 1.3584],\n",
            "          [1.1015, 1.1015, 0.9988,  ..., 1.3070, 1.3070, 1.3070],\n",
            "          [1.1358, 1.0502, 1.0502,  ..., 1.3927, 1.3755, 1.3413],\n",
            "          ...,\n",
            "          [1.4269, 1.4098, 1.1187,  ..., 1.3927, 1.2214, 0.9988],\n",
            "          [1.4269, 1.4098, 1.1015,  ..., 1.3927, 1.4612, 1.4269],\n",
            "          [1.4269, 1.4098, 1.1015,  ..., 1.2899, 1.5125, 1.7180]],\n",
            "\n",
            "         [[1.1155, 1.1155, 0.9755,  ..., 1.4832, 1.4832, 1.5007],\n",
            "          [1.0980, 1.0980, 1.0455,  ..., 1.4482, 1.4482, 1.4482],\n",
            "          [1.1331, 1.0980, 1.0980,  ..., 1.5357, 1.5182, 1.4832],\n",
            "          ...,\n",
            "          [1.5707, 1.5532, 1.2556,  ..., 1.5357, 1.3606, 1.1331],\n",
            "          [1.5707, 1.5532, 1.2381,  ..., 1.5357, 1.6057, 1.5707],\n",
            "          [1.5707, 1.5532, 1.2381,  ..., 1.4307, 1.6583, 1.8683]],\n",
            "\n",
            "         [[1.3502, 1.3502, 1.1934,  ..., 1.6640, 1.6640, 1.6814],\n",
            "          [1.3328, 1.3328, 1.2631,  ..., 1.6291, 1.6291, 1.6291],\n",
            "          [1.3677, 1.3154, 1.3154,  ..., 1.7163, 1.6988, 1.6640],\n",
            "          ...,\n",
            "          [1.7511, 1.7337, 1.4374,  ..., 1.7163, 1.5420, 1.3154],\n",
            "          [1.7511, 1.7337, 1.4200,  ..., 1.7337, 1.7860, 1.7511],\n",
            "          [1.7511, 1.7337, 1.4200,  ..., 1.6117, 1.8383, 2.0474]]],\n",
            "\n",
            "\n",
            "        [[[1.0673, 1.0673, 1.0844,  ..., 1.2385, 1.1529, 1.0673],\n",
            "          [1.0844, 1.0673, 1.0673,  ..., 1.2728, 1.2043, 1.1529],\n",
            "          [1.1187, 1.0844, 1.0502,  ..., 1.2214, 1.1872, 1.1529],\n",
            "          ...,\n",
            "          [1.4612, 1.4440, 1.4269,  ..., 0.5022, 0.5536, 0.5878],\n",
            "          [1.4612, 1.4440, 1.4269,  ..., 0.5878, 0.6392, 0.6734],\n",
            "          [1.4612, 1.4440, 1.4269,  ..., 0.6392, 0.6906, 0.7248]],\n",
            "\n",
            "         [[1.0455, 1.0455, 1.0630,  ..., 1.2381, 1.1506, 1.0630],\n",
            "          [1.0630, 1.0455, 1.0455,  ..., 1.2731, 1.2031, 1.1506],\n",
            "          [1.0980, 1.0630, 1.0280,  ..., 1.2206, 1.1856, 1.1506],\n",
            "          ...,\n",
            "          [1.4482, 1.4307, 1.4132,  ..., 0.5728, 0.6254, 0.6604],\n",
            "          [1.4482, 1.4307, 1.4132,  ..., 0.6604, 0.7129, 0.7479],\n",
            "          [1.4482, 1.4307, 1.4132,  ..., 0.7129, 0.7654, 0.8004]],\n",
            "\n",
            "         [[1.0888, 1.0888, 1.1062,  ..., 1.3677, 1.2805, 1.1934],\n",
            "          [1.1062, 1.0888, 1.0888,  ..., 1.4025, 1.3328, 1.2805],\n",
            "          [1.1411, 1.1062, 1.0714,  ..., 1.3502, 1.3154, 1.2805],\n",
            "          ...,\n",
            "          [1.4897, 1.4722, 1.4548,  ..., 0.7402, 0.7925, 0.8274],\n",
            "          [1.4897, 1.4722, 1.4548,  ..., 0.8274, 0.8797, 0.9145],\n",
            "          [1.4897, 1.4722, 1.4548,  ..., 0.8797, 0.9319, 0.9668]]],\n",
            "\n",
            "\n",
            "        [[[0.9132, 0.9474, 0.9988,  ..., 1.0673, 1.0844, 1.1015],\n",
            "          [0.9303, 0.9646, 0.9988,  ..., 1.0673, 1.0844, 1.1187],\n",
            "          [0.9646, 0.9817, 0.9988,  ..., 1.0502, 1.0673, 1.0844],\n",
            "          ...,\n",
            "          [0.9303, 0.8276, 0.7933,  ..., 0.8618, 0.8618, 0.8618],\n",
            "          [0.9303, 0.8276, 0.7933,  ..., 0.7248, 0.7248, 0.7248],\n",
            "          [0.9303, 0.8276, 0.7933,  ..., 0.6221, 0.6221, 0.6221]],\n",
            "\n",
            "         [[0.8880, 0.9230, 0.9755,  ..., 1.0805, 1.0980, 1.1155],\n",
            "          [0.9055, 0.9405, 0.9755,  ..., 1.0805, 1.0980, 1.1331],\n",
            "          [0.9405, 0.9580, 0.9755,  ..., 1.0455, 1.0630, 1.0805],\n",
            "          ...,\n",
            "          [0.9055, 0.8004, 0.7654,  ..., 0.8704, 0.8704, 0.8704],\n",
            "          [0.9055, 0.8004, 0.7654,  ..., 0.7304, 0.7304, 0.7304],\n",
            "          [0.9055, 0.8004, 0.7654,  ..., 0.6254, 0.6254, 0.6254]],\n",
            "\n",
            "         [[0.8971, 0.9319, 0.9842,  ..., 0.9668, 0.9842, 1.0017],\n",
            "          [0.9145, 0.9494, 0.9842,  ..., 0.9668, 0.9842, 1.0191],\n",
            "          [0.9494, 0.9668, 0.9842,  ..., 0.9668, 0.9842, 1.0017],\n",
            "          ...,\n",
            "          [0.9145, 0.8099, 0.7751,  ..., 0.8622, 0.8622, 0.8622],\n",
            "          [0.9145, 0.8099, 0.7751,  ..., 0.7228, 0.7228, 0.7228],\n",
            "          [0.9145, 0.8099, 0.7751,  ..., 0.6182, 0.6182, 0.6182]]]]), tensor([[[[ 0.6049,  0.6221,  0.6734,  ...,  0.8618,  0.8789,  0.8961],\n",
            "          [ 0.6563,  0.6563,  0.6906,  ...,  0.8447,  0.8447,  0.8618],\n",
            "          [ 0.7248,  0.7077,  0.7419,  ...,  0.8447,  0.8618,  0.8789],\n",
            "          ...,\n",
            "          [-0.3541, -0.5938, -0.6623,  ...,  0.9474,  0.9817,  0.9988],\n",
            "          [-0.4739, -0.7137, -0.7822,  ...,  0.9646,  0.9817,  0.9988],\n",
            "          [-0.5938, -0.8678, -0.9192,  ...,  0.9817,  0.9817,  0.9988]],\n",
            "\n",
            "         [[ 0.7129,  0.7304,  0.7829,  ...,  0.9755,  0.9930,  1.0105],\n",
            "          [ 0.7654,  0.7654,  0.8004,  ...,  0.9580,  0.9580,  0.9755],\n",
            "          [ 0.8354,  0.8179,  0.8529,  ...,  0.9580,  0.9755,  0.9930],\n",
            "          ...,\n",
            "          [-0.2325, -0.4776, -0.5476,  ...,  1.0280,  1.0630,  1.0805],\n",
            "          [-0.3550, -0.6001, -0.6702,  ...,  1.0455,  1.0630,  1.0805],\n",
            "          [-0.4776, -0.7577, -0.8102,  ...,  1.0630,  1.0630,  1.0805]],\n",
            "\n",
            "         [[ 0.7054,  0.7228,  0.7751,  ...,  0.9668,  0.9842,  1.0017],\n",
            "          [ 0.7576,  0.7576,  0.7925,  ...,  0.9494,  0.9494,  0.9668],\n",
            "          [ 0.8274,  0.8099,  0.8448,  ...,  0.9494,  0.9668,  0.9842],\n",
            "          ...,\n",
            "          [-0.1487, -0.3927, -0.4624,  ...,  1.0365,  1.0714,  1.0888],\n",
            "          [-0.2707, -0.5147, -0.5844,  ...,  1.0539,  1.0714,  1.0888],\n",
            "          [-0.3927, -0.6715, -0.7238,  ...,  1.0714,  1.0714,  1.0888]]],\n",
            "\n",
            "\n",
            "        [[[ 1.5297,  1.5639,  1.6153,  ...,  1.7009,  1.7009,  1.6838],\n",
            "          [ 1.6324,  1.6495,  1.6667,  ...,  1.7009,  1.6838,  1.6667],\n",
            "          [ 1.6838,  1.7009,  1.7009,  ...,  1.6838,  1.6667,  1.6495],\n",
            "          ...,\n",
            "          [ 1.5297,  1.5125,  1.4783,  ...,  1.4098,  1.4269,  1.4440],\n",
            "          [ 1.5297,  1.4954,  1.4783,  ...,  1.4269,  1.4269,  1.4440],\n",
            "          [ 1.5297,  1.4954,  1.4612,  ...,  1.4440,  1.4612,  1.4783]],\n",
            "\n",
            "         [[ 1.5357,  1.5707,  1.6232,  ...,  1.7983,  1.7983,  1.7808],\n",
            "          [ 1.6408,  1.6583,  1.6758,  ...,  1.7983,  1.7808,  1.7633],\n",
            "          [ 1.6933,  1.7108,  1.7108,  ...,  1.7808,  1.7633,  1.7458],\n",
            "          ...,\n",
            "          [ 1.6232,  1.6057,  1.5707,  ...,  1.4132,  1.4307,  1.4482],\n",
            "          [ 1.6232,  1.5882,  1.5707,  ...,  1.4307,  1.4307,  1.4482],\n",
            "          [ 1.6232,  1.5882,  1.5532,  ...,  1.4482,  1.4657,  1.4832]],\n",
            "\n",
            "         [[ 1.5942,  1.6291,  1.6814,  ...,  1.8034,  1.8034,  1.7860],\n",
            "          [ 1.6988,  1.7163,  1.7337,  ...,  1.8034,  1.7860,  1.7685],\n",
            "          [ 1.7511,  1.7685,  1.7685,  ...,  1.7860,  1.7685,  1.7511],\n",
            "          ...,\n",
            "          [ 1.6291,  1.6117,  1.5768,  ...,  1.4722,  1.4897,  1.5071],\n",
            "          [ 1.6291,  1.5942,  1.5768,  ...,  1.4897,  1.4897,  1.5071],\n",
            "          [ 1.6291,  1.5942,  1.5594,  ...,  1.5071,  1.5245,  1.5420]]],\n",
            "\n",
            "\n",
            "        [[[ 0.5193,  0.5878,  0.7077,  ...,  0.4679,  0.4851,  0.5022],\n",
            "          [ 0.6734,  0.7248,  0.8276,  ...,  0.4508,  0.4508,  0.4508],\n",
            "          [ 0.8104,  0.8276,  0.8961,  ...,  0.4337,  0.4337,  0.4166],\n",
            "          ...,\n",
            "          [ 0.5707,  0.5193,  0.4679,  ...,  0.4851,  0.4679,  0.4508],\n",
            "          [ 0.5536,  0.5022,  0.4679,  ...,  0.4679,  0.4679,  0.4508],\n",
            "          [ 0.5193,  0.5022,  0.4851,  ...,  0.4508,  0.4337,  0.4166]],\n",
            "\n",
            "         [[ 0.6779,  0.7304,  0.8529,  ...,  0.5553,  0.5728,  0.5903],\n",
            "          [ 0.8179,  0.8704,  0.9755,  ...,  0.5378,  0.5378,  0.5378],\n",
            "          [ 0.9580,  0.9755,  1.0455,  ...,  0.5203,  0.5203,  0.5028],\n",
            "          ...,\n",
            "          [ 0.6604,  0.6078,  0.5553,  ...,  0.5378,  0.5203,  0.5028],\n",
            "          [ 0.6429,  0.5903,  0.5553,  ...,  0.5203,  0.5203,  0.5028],\n",
            "          [ 0.6078,  0.5903,  0.5728,  ...,  0.5028,  0.4853,  0.4678]],\n",
            "\n",
            "         [[ 0.6531,  0.7402,  0.8622,  ...,  0.6531,  0.6705,  0.6879],\n",
            "          [ 0.8274,  0.8797,  0.9842,  ...,  0.6356,  0.6356,  0.6356],\n",
            "          [ 0.9668,  0.9842,  1.0539,  ...,  0.6182,  0.6182,  0.6008],\n",
            "          ...,\n",
            "          [ 0.7576,  0.7054,  0.6531,  ...,  0.6531,  0.6356,  0.6182],\n",
            "          [ 0.7402,  0.6879,  0.6531,  ...,  0.6356,  0.6356,  0.6182],\n",
            "          [ 0.7054,  0.6879,  0.6705,  ...,  0.6182,  0.6008,  0.5834]]],\n",
            "\n",
            "\n",
            "        ...,\n",
            "\n",
            "\n",
            "        [[[ 0.1939,  0.2111,  0.2453,  ...,  0.2453,  0.2624,  0.2796],\n",
            "          [ 0.2282,  0.2282,  0.2111,  ...,  0.2453,  0.2624,  0.2796],\n",
            "          [ 0.2453,  0.2111,  0.1768,  ...,  0.2624,  0.2624,  0.2796],\n",
            "          ...,\n",
            "          [ 0.2111,  0.2111,  0.2282,  ..., -0.2684, -0.1657, -0.0801],\n",
            "          [ 0.2111,  0.2111,  0.2282,  ..., -0.1314, -0.0116,  0.0569],\n",
            "          [ 0.2111,  0.2111,  0.2282,  ..., -0.0287,  0.0912,  0.1597]],\n",
            "\n",
            "         [[ 0.2577,  0.2752,  0.3102,  ...,  0.3102,  0.3277,  0.3452],\n",
            "          [ 0.2927,  0.2927,  0.2752,  ...,  0.3102,  0.3277,  0.3452],\n",
            "          [ 0.3102,  0.2752,  0.2402,  ...,  0.3277,  0.3277,  0.3452],\n",
            "          ...,\n",
            "          [ 0.2752,  0.2752,  0.2927,  ..., -0.2150, -0.1099, -0.0224],\n",
            "          [ 0.2752,  0.2752,  0.2927,  ..., -0.0749,  0.0476,  0.1176],\n",
            "          [ 0.2752,  0.2752,  0.2927,  ...,  0.0301,  0.1527,  0.2227]],\n",
            "\n",
            "         [[ 0.2696,  0.2871,  0.3219,  ...,  0.3219,  0.3393,  0.3568],\n",
            "          [ 0.3045,  0.3045,  0.2871,  ...,  0.3219,  0.3393,  0.3568],\n",
            "          [ 0.3219,  0.2871,  0.2522,  ...,  0.3393,  0.3393,  0.3568],\n",
            "          ...,\n",
            "          [ 0.2871,  0.2871,  0.3045,  ..., -0.1835, -0.0790,  0.0082],\n",
            "          [ 0.2871,  0.2871,  0.3045,  ..., -0.0441,  0.0779,  0.1476],\n",
            "          [ 0.2871,  0.2871,  0.3045,  ...,  0.0605,  0.1825,  0.2522]]],\n",
            "\n",
            "\n",
            "        [[[ 0.3481,  0.3309,  0.3481,  ...,  0.5022,  0.4679,  0.4337],\n",
            "          [ 0.3652,  0.3652,  0.3652,  ...,  0.5707,  0.5364,  0.5022],\n",
            "          [ 0.4166,  0.3994,  0.3823,  ...,  0.5878,  0.5536,  0.5193],\n",
            "          ...,\n",
            "          [ 0.7419,  0.7591,  0.6906,  ...,  0.5707,  0.5536,  0.5364],\n",
            "          [ 0.7419,  0.7591,  0.7248,  ...,  0.5878,  0.5707,  0.5536],\n",
            "          [ 0.7248,  0.7762,  0.7591,  ...,  0.6049,  0.5878,  0.5707]],\n",
            "\n",
            "         [[ 0.3277,  0.3102,  0.3277,  ...,  0.5028,  0.4503,  0.4153],\n",
            "          [ 0.3452,  0.3452,  0.3452,  ...,  0.5553,  0.5203,  0.4853],\n",
            "          [ 0.3978,  0.3803,  0.3627,  ...,  0.5728,  0.5378,  0.5028],\n",
            "          ...,\n",
            "          [ 0.7479,  0.7654,  0.6954,  ...,  0.5728,  0.5553,  0.5378],\n",
            "          [ 0.7479,  0.7654,  0.7304,  ...,  0.5903,  0.5728,  0.5553],\n",
            "          [ 0.7304,  0.7829,  0.7654,  ...,  0.6078,  0.5903,  0.5728]],\n",
            "\n",
            "         [[ 0.2871,  0.2696,  0.2871,  ...,  0.5659,  0.5136,  0.4788],\n",
            "          [ 0.3045,  0.3045,  0.3045,  ...,  0.6182,  0.5834,  0.5485],\n",
            "          [ 0.3568,  0.3393,  0.3219,  ...,  0.6356,  0.6008,  0.5659],\n",
            "          ...,\n",
            "          [ 0.7751,  0.7925,  0.7228,  ...,  0.6008,  0.5834,  0.5659],\n",
            "          [ 0.7751,  0.7925,  0.7576,  ...,  0.6182,  0.6008,  0.5834],\n",
            "          [ 0.7576,  0.8099,  0.7925,  ...,  0.6356,  0.6182,  0.6008]]],\n",
            "\n",
            "\n",
            "        [[[ 0.9303,  0.9303,  0.9303,  ...,  0.5193,  0.5364,  0.5536],\n",
            "          [ 0.8618,  0.8789,  0.8961,  ...,  0.5707,  0.5878,  0.5878],\n",
            "          [ 0.7762,  0.8104,  0.8447,  ...,  0.6563,  0.6563,  0.6563],\n",
            "          ...,\n",
            "          [ 0.8961,  0.8789,  0.8618,  ...,  1.1700,  1.1872,  1.2043],\n",
            "          [ 0.8618,  0.8447,  0.8276,  ...,  1.1700,  1.1872,  1.2043],\n",
            "          [ 0.8276,  0.8104,  0.7933,  ...,  1.1700,  1.1872,  1.2043]],\n",
            "\n",
            "         [[ 0.9055,  0.9055,  0.9055,  ...,  0.4853,  0.5028,  0.5203],\n",
            "          [ 0.8354,  0.8529,  0.8704,  ...,  0.5378,  0.5553,  0.5553],\n",
            "          [ 0.7479,  0.7829,  0.8179,  ...,  0.6254,  0.6254,  0.6254],\n",
            "          ...,\n",
            "          [ 0.8704,  0.8529,  0.8354,  ...,  1.1506,  1.1681,  1.1856],\n",
            "          [ 0.8354,  0.8179,  0.8004,  ...,  1.1506,  1.1681,  1.1856],\n",
            "          [ 0.8004,  0.7829,  0.7654,  ...,  1.1506,  1.1681,  1.1856]],\n",
            "\n",
            "         [[ 0.9494,  0.9494,  0.9494,  ...,  0.5311,  0.5485,  0.5659],\n",
            "          [ 0.8797,  0.8971,  0.9145,  ...,  0.5834,  0.6008,  0.6008],\n",
            "          [ 0.7925,  0.8274,  0.8622,  ...,  0.6705,  0.6705,  0.6705],\n",
            "          ...,\n",
            "          [ 0.9145,  0.8971,  0.8797,  ...,  1.1585,  1.1759,  1.1934],\n",
            "          [ 0.8797,  0.8622,  0.8448,  ...,  1.1585,  1.1759,  1.1934],\n",
            "          [ 0.8448,  0.8274,  0.8099,  ...,  1.1585,  1.1759,  1.1934]]]])]\n"
          ],
          "name": "stdout"
        }
      ]
    },
    {
      "cell_type": "code",
      "metadata": {
        "id": "1iAqa9wXtZ2W",
        "colab_type": "code",
        "colab": {
          "base_uri": "https://localhost:8080/",
          "height": 34
        },
        "outputId": "7c716387-5580-4cc6-c780-5dd05d3df542"
      },
      "source": [
        "print(len(misclassified_list))"
      ],
      "execution_count": 21,
      "outputs": [
        {
          "output_type": "stream",
          "text": [
            "4\n"
          ],
          "name": "stdout"
        }
      ]
    },
    {
      "cell_type": "code",
      "metadata": {
        "id": "RkuS08pVtZ2Z",
        "colab_type": "code",
        "colab": {
          "base_uri": "https://localhost:8080/",
          "height": 246
        },
        "outputId": "3af4c6b2-7ca8-450a-85af-0cb7afd56f66"
      },
      "source": [
        "for t in misclassified_list:\n",
        "    print(\"t is: \", t.size())\n",
        "    from torchvision import transforms\n",
        "    im = transforms.ToPILImage()(t.reshape(3,224,224)).convert(\"RGB\")\n",
        "    #im = transforms.ToPILImage()(t)\n",
        "    #plt.imshow(trans(trans1(img).convert(\"RGB\")))\n",
        "    display(im)\n",
        "    print(im)\n",
        "    print(im.size)"
      ],
      "execution_count": 30,
      "outputs": [
        {
          "output_type": "stream",
          "text": [
            "t is:  torch.Size([100, 3, 224, 224])\n"
          ],
          "name": "stdout"
        },
        {
          "output_type": "error",
          "ename": "RuntimeError",
          "evalue": "ignored",
          "traceback": [
            "\u001b[0;31m---------------------------------------------------------------------------\u001b[0m",
            "\u001b[0;31mRuntimeError\u001b[0m                              Traceback (most recent call last)",
            "\u001b[0;32m<ipython-input-30-daa52f3b1159>\u001b[0m in \u001b[0;36m<module>\u001b[0;34m()\u001b[0m\n\u001b[1;32m      2\u001b[0m     \u001b[0mprint\u001b[0m\u001b[0;34m(\u001b[0m\u001b[0;34m\"t is: \"\u001b[0m\u001b[0;34m,\u001b[0m \u001b[0mt\u001b[0m\u001b[0;34m.\u001b[0m\u001b[0msize\u001b[0m\u001b[0;34m(\u001b[0m\u001b[0;34m)\u001b[0m\u001b[0;34m)\u001b[0m\u001b[0;34m\u001b[0m\u001b[0;34m\u001b[0m\u001b[0m\n\u001b[1;32m      3\u001b[0m     \u001b[0;32mfrom\u001b[0m \u001b[0mtorchvision\u001b[0m \u001b[0;32mimport\u001b[0m \u001b[0mtransforms\u001b[0m\u001b[0;34m\u001b[0m\u001b[0;34m\u001b[0m\u001b[0m\n\u001b[0;32m----> 4\u001b[0;31m     \u001b[0mim\u001b[0m \u001b[0;34m=\u001b[0m \u001b[0mtransforms\u001b[0m\u001b[0;34m.\u001b[0m\u001b[0mToPILImage\u001b[0m\u001b[0;34m(\u001b[0m\u001b[0;34m)\u001b[0m\u001b[0;34m(\u001b[0m\u001b[0mt\u001b[0m\u001b[0;34m.\u001b[0m\u001b[0mreshape\u001b[0m\u001b[0;34m(\u001b[0m\u001b[0;36m3\u001b[0m\u001b[0;34m,\u001b[0m\u001b[0;36m224\u001b[0m\u001b[0;34m,\u001b[0m\u001b[0;36m224\u001b[0m\u001b[0;34m)\u001b[0m\u001b[0;34m)\u001b[0m\u001b[0;34m.\u001b[0m\u001b[0mconvert\u001b[0m\u001b[0;34m(\u001b[0m\u001b[0;34m\"RGB\"\u001b[0m\u001b[0;34m)\u001b[0m\u001b[0;34m\u001b[0m\u001b[0;34m\u001b[0m\u001b[0m\n\u001b[0m\u001b[1;32m      5\u001b[0m     \u001b[0;31m#im = transforms.ToPILImage()(t)\u001b[0m\u001b[0;34m\u001b[0m\u001b[0;34m\u001b[0m\u001b[0;34m\u001b[0m\u001b[0m\n\u001b[1;32m      6\u001b[0m     \u001b[0;31m#plt.imshow(trans(trans1(img).convert(\"RGB\")))\u001b[0m\u001b[0;34m\u001b[0m\u001b[0;34m\u001b[0m\u001b[0;34m\u001b[0m\u001b[0m\n",
            "\u001b[0;31mRuntimeError\u001b[0m: shape '[3, 224, 224]' is invalid for input of size 15052800"
          ]
        }
      ]
    },
    {
      "cell_type": "code",
      "metadata": {
        "id": "kWS7v643tZ2b",
        "colab_type": "code",
        "colab": {
          "base_uri": "https://localhost:8080/",
          "height": 370
        },
        "outputId": "d5559264-a014-4cd1-9cd2-cc45e9a72996"
      },
      "source": [
        "count=0\n",
        "\n",
        "for x, y in torch.utils.data.DataLoader(dataset=validation_dataset, batch_size=1):\n",
        "#for x,y in validation_dataset:  \n",
        "     \n",
        "    #make a prediction\n",
        "    z = model(x)\n",
        "    #find max \n",
        "    _,yhat = torch.max(z.data, 1)\n",
        "    if  yhat != y:\n",
        "        \n",
        "        from torchvision import transforms\n",
        "        \n",
        "        im = transforms.ToPILImage()(x).convert(\"RGB\")\n",
        "        display(im)\n",
        "        print(im)\n",
        "        print(im.size)\n",
        "        \n",
        "        count += 1\n",
        "    if count >=4:\n",
        "        break"
      ],
      "execution_count": 26,
      "outputs": [
        {
          "output_type": "error",
          "ename": "TypeError",
          "evalue": "ignored",
          "traceback": [
            "\u001b[0;31m---------------------------------------------------------------------------\u001b[0m",
            "\u001b[0;31mTypeError\u001b[0m                                 Traceback (most recent call last)",
            "\u001b[0;32m<ipython-input-26-e0122511cf56>\u001b[0m in \u001b[0;36m<module>\u001b[0;34m()\u001b[0m\n\u001b[1;32m     12\u001b[0m         \u001b[0;32mfrom\u001b[0m \u001b[0mtorchvision\u001b[0m \u001b[0;32mimport\u001b[0m \u001b[0mtransforms\u001b[0m\u001b[0;34m\u001b[0m\u001b[0;34m\u001b[0m\u001b[0m\n\u001b[1;32m     13\u001b[0m \u001b[0;34m\u001b[0m\u001b[0m\n\u001b[0;32m---> 14\u001b[0;31m         \u001b[0mim\u001b[0m \u001b[0;34m=\u001b[0m \u001b[0mtransforms\u001b[0m\u001b[0;34m.\u001b[0m\u001b[0mToPILImage\u001b[0m\u001b[0;34m(\u001b[0m\u001b[0;34m)\u001b[0m\u001b[0;34m(\u001b[0m\u001b[0mx\u001b[0m\u001b[0;34m.\u001b[0m\u001b[0mshape\u001b[0m\u001b[0;34m)\u001b[0m\u001b[0;34m.\u001b[0m\u001b[0mconvert\u001b[0m\u001b[0;34m(\u001b[0m\u001b[0;34m\"RGB\"\u001b[0m\u001b[0;34m)\u001b[0m\u001b[0;34m\u001b[0m\u001b[0;34m\u001b[0m\u001b[0m\n\u001b[0m\u001b[1;32m     15\u001b[0m         \u001b[0mdisplay\u001b[0m\u001b[0;34m(\u001b[0m\u001b[0mim\u001b[0m\u001b[0;34m)\u001b[0m\u001b[0;34m\u001b[0m\u001b[0;34m\u001b[0m\u001b[0m\n\u001b[1;32m     16\u001b[0m         \u001b[0mprint\u001b[0m\u001b[0;34m(\u001b[0m\u001b[0mim\u001b[0m\u001b[0;34m)\u001b[0m\u001b[0;34m\u001b[0m\u001b[0;34m\u001b[0m\u001b[0m\n",
            "\u001b[0;32m/usr/local/lib/python3.6/dist-packages/torchvision/transforms/transforms.py\u001b[0m in \u001b[0;36m__call__\u001b[0;34m(self, pic)\u001b[0m\n\u001b[1;32m    134\u001b[0m \u001b[0;34m\u001b[0m\u001b[0m\n\u001b[1;32m    135\u001b[0m         \"\"\"\n\u001b[0;32m--> 136\u001b[0;31m         \u001b[0;32mreturn\u001b[0m \u001b[0mF\u001b[0m\u001b[0;34m.\u001b[0m\u001b[0mto_pil_image\u001b[0m\u001b[0;34m(\u001b[0m\u001b[0mpic\u001b[0m\u001b[0;34m,\u001b[0m \u001b[0mself\u001b[0m\u001b[0;34m.\u001b[0m\u001b[0mmode\u001b[0m\u001b[0;34m)\u001b[0m\u001b[0;34m\u001b[0m\u001b[0;34m\u001b[0m\u001b[0m\n\u001b[0m\u001b[1;32m    137\u001b[0m \u001b[0;34m\u001b[0m\u001b[0m\n\u001b[1;32m    138\u001b[0m     \u001b[0;32mdef\u001b[0m \u001b[0m__repr__\u001b[0m\u001b[0;34m(\u001b[0m\u001b[0mself\u001b[0m\u001b[0;34m)\u001b[0m\u001b[0;34m:\u001b[0m\u001b[0;34m\u001b[0m\u001b[0;34m\u001b[0m\u001b[0m\n",
            "\u001b[0;32m/usr/local/lib/python3.6/dist-packages/torchvision/transforms/functional.py\u001b[0m in \u001b[0;36mto_pil_image\u001b[0;34m(pic, mode)\u001b[0m\n\u001b[1;32m    118\u001b[0m     \"\"\"\n\u001b[1;32m    119\u001b[0m     \u001b[0;32mif\u001b[0m \u001b[0;32mnot\u001b[0m\u001b[0;34m(\u001b[0m\u001b[0misinstance\u001b[0m\u001b[0;34m(\u001b[0m\u001b[0mpic\u001b[0m\u001b[0;34m,\u001b[0m \u001b[0mtorch\u001b[0m\u001b[0;34m.\u001b[0m\u001b[0mTensor\u001b[0m\u001b[0;34m)\u001b[0m \u001b[0;32mor\u001b[0m \u001b[0misinstance\u001b[0m\u001b[0;34m(\u001b[0m\u001b[0mpic\u001b[0m\u001b[0;34m,\u001b[0m \u001b[0mnp\u001b[0m\u001b[0;34m.\u001b[0m\u001b[0mndarray\u001b[0m\u001b[0;34m)\u001b[0m\u001b[0;34m)\u001b[0m\u001b[0;34m:\u001b[0m\u001b[0;34m\u001b[0m\u001b[0;34m\u001b[0m\u001b[0m\n\u001b[0;32m--> 120\u001b[0;31m         \u001b[0;32mraise\u001b[0m \u001b[0mTypeError\u001b[0m\u001b[0;34m(\u001b[0m\u001b[0;34m'pic should be Tensor or ndarray. Got {}.'\u001b[0m\u001b[0;34m.\u001b[0m\u001b[0mformat\u001b[0m\u001b[0;34m(\u001b[0m\u001b[0mtype\u001b[0m\u001b[0;34m(\u001b[0m\u001b[0mpic\u001b[0m\u001b[0;34m)\u001b[0m\u001b[0;34m)\u001b[0m\u001b[0;34m)\u001b[0m\u001b[0;34m\u001b[0m\u001b[0;34m\u001b[0m\u001b[0m\n\u001b[0m\u001b[1;32m    121\u001b[0m \u001b[0;34m\u001b[0m\u001b[0m\n\u001b[1;32m    122\u001b[0m     \u001b[0;32melif\u001b[0m \u001b[0misinstance\u001b[0m\u001b[0;34m(\u001b[0m\u001b[0mpic\u001b[0m\u001b[0;34m,\u001b[0m \u001b[0mtorch\u001b[0m\u001b[0;34m.\u001b[0m\u001b[0mTensor\u001b[0m\u001b[0;34m)\u001b[0m\u001b[0;34m:\u001b[0m\u001b[0;34m\u001b[0m\u001b[0;34m\u001b[0m\u001b[0m\n",
            "\u001b[0;31mTypeError\u001b[0m: pic should be Tensor or ndarray. Got <class 'torch.Size'>."
          ]
        }
      ]
    },
    {
      "cell_type": "markdown",
      "metadata": {
        "id": "Me0dbvo7tZ2h",
        "colab_type": "text"
      },
      "source": [
        "<a href=\"https://dataplatform.cloud.ibm.com/docs/content/wsj/analyze-data/share-notebooks.html\"> CLICK HERE </a> Click here to see how to share your notebook."
      ]
    },
    {
      "cell_type": "markdown",
      "metadata": {
        "id": "IJGXSpOhtZ2i",
        "colab_type": "text"
      },
      "source": [
        "<h2>About the Authors:</h2> \n",
        "\n",
        "<a href=\"https://www.linkedin.com/in/joseph-s-50398b136/\">Joseph Santarcangelo</a> has a PhD in Electrical Engineering, his research focused on using machine learning, signal processing, and computer vision to determine how videos impact human cognition. Joseph has been working for IBM since he completed his PhD."
      ]
    },
    {
      "cell_type": "markdown",
      "metadata": {
        "id": "lMiiE9Y0tZ2j",
        "colab_type": "text"
      },
      "source": [
        "Copyright &copy; 2018 <a href=\"cognitiveclass.ai?utm_source=bducopyrightlink&utm_medium=dswb&utm_campaign=bdu\">cognitiveclass.ai</a>. This notebook and its source code are released under the terms of the <a href=\"https://bigdatauniversity.com/mit-license/\">MIT License</a>."
      ]
    }
  ]
}