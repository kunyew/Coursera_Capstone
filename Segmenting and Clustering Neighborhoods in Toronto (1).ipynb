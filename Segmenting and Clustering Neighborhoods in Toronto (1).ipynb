{
 "cells": [
  {
   "cell_type": "markdown",
   "metadata": {
    "collapsed": true
   },
   "source": [
    "# Peer Graded Assignment   \n",
    "## Segmenting and Clustering Neighborhoods in Toronto"
   ]
  },
  {
   "cell_type": "code",
   "execution_count": 1,
   "metadata": {},
   "outputs": [],
   "source": [
    "# Import necessary modules\n",
    "import requests \n",
    "import lxml.html as lh\n",
    "from bs4 import BeautifulSoup\n",
    "import pandas as pd"
   ]
  },
  {
   "cell_type": "markdown",
   "metadata": {},
   "source": [
    "## Extract table from website using BeautifulSoup and cast content to DataFrame.  \n",
    "### Comments are annotated in body of code how dataframe is cleaned and formatted in line with assignment instructions."
   ]
  },
  {
   "cell_type": "code",
   "execution_count": 48,
   "metadata": {},
   "outputs": [
    {
     "data": {
      "text/plain": [
       "(103, 3)"
      ]
     },
     "execution_count": 48,
     "metadata": {},
     "output_type": "execute_result"
    }
   ],
   "source": [
    "# Extract table content from webscraping url using BeautifulSoup:\n",
    "website_url = 'https://en.wikipedia.org/wiki/List_of_postal_codes_of_Canada:_M'\n",
    "res = requests.get(website_url)\n",
    "soup = BeautifulSoup(res.content,'lxml')\n",
    "table = soup.find_all('table')[0] \n",
    "# Fetch table content into a dataframe:\n",
    "df = pd.read_html(str(table))[0]\n",
    "# Format the dataframe with the required column headings and reindex the rows:\n",
    "df.columns = df.iloc[0]\n",
    "df = df.reindex(df.index.drop(0)).reset_index(drop=True)\n",
    "df.columns.name = None\n",
    "#df.head()\n",
    "# Remove rows with 'Not assigned' Borough:\n",
    "df = df[df.Borough != 'Not assigned']\n",
    "# Replace 'Not assigned' Neighbourhood to 'Borough name'\n",
    "df.loc[df['Neighbourhood'] =='Not assigned', 'Neighbourhood'] = df['Borough']\n",
    "df.head()\n",
    "# Combine neighbourhoods for same postalcode\n",
    "\n",
    "df2 = df.groupby('Postcode').agg({'Borough':'first', \n",
    "                             'Neighbourhood': ', '.join \n",
    "                              }).reset_index()\n",
    "# Rename df2 columns to what is described in Assignment Instructions\n",
    "df2.rename(columns={'Postcode':'PostalCode',\n",
    "                          'Borough':'Borough',\n",
    "                          'Neighbourhood':'Neighborhood'}, \n",
    "                 inplace=True)\n",
    "#df2.head()\n",
    "df2.shape"
   ]
  },
  {
   "cell_type": "code",
   "execution_count": null,
   "metadata": {},
   "outputs": [],
   "source": [
    "# "
   ]
  }
 ],
 "metadata": {
  "kernelspec": {
   "display_name": "Python 3.5",
   "language": "python",
   "name": "python3"
  },
  "language_info": {
   "codemirror_mode": {
    "name": "ipython",
    "version": 3
   },
   "file_extension": ".py",
   "mimetype": "text/x-python",
   "name": "python",
   "nbconvert_exporter": "python",
   "pygments_lexer": "ipython3",
   "version": "3.5.5"
  }
 },
 "nbformat": 4,
 "nbformat_minor": 1
}
